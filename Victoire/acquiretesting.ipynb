{
 "cells": [
  {
   "cell_type": "code",
   "execution_count": 1,
   "id": "78d28c6f-1e8a-44d7-a455-ffd32b1962da",
   "metadata": {
    "tags": []
   },
   "outputs": [],
   "source": [
    "\n",
    "# import acquire as a\n",
    "# from env import github_token, github_username\n",
    "import warnings\n",
    "warnings.filterwarnings(\"ignore\")\n",
    "import pandas as pd\n",
    "import numpy as np\n",
    "import requests\n",
    "from bs4 import BeautifulSoup\n",
    "import re\n",
    "\n",
    "from sklearn.model_selection import train_test_split\n",
    "from sklearn.metrics import confusion_matrix\n",
    "from sklearn.linear_model import LogisticRegression\n",
    "from sklearn.ensemble import RandomForestClassifier\n",
    "from sklearn.tree import DecisionTreeClassifier, plot_tree\n",
    "from sklearn.neighbors import KNeighborsClassifier\n",
    "from sklearn.metrics import accuracy_score\n",
    "from sklearn.metrics import classification_report, confusion_matrix, ConfusionMatrixDisplay\n",
    "import scipy.stats as stats\n",
    "from scipy.stats import  chi2_contingency\n",
    "import matplotlib.pyplot as plt\n",
    "%matplotlib inline\n",
    "import seaborn as sns\n",
    "from scipy.stats import ttest_ind\n",
    "import os\n",
    "import requests\n",
    "from bs4 import BeautifulSoup\n",
    "import pandas as pd\n",
    "\n",
    "import sys\n",
    "sys.path.append(\"..\")\n",
    "import acquire as a\n",
    "from env import github_token, github_username\n",
    "\"\"\"\n",
    "A module for obtaining repo readme and language data from the github API.\n",
    "Before using this module, read through it, and follow the instructions marked\n",
    "TODO.\n",
    "After doing so, run it like this:\n",
    "    python acquire.py\n",
    "To create the `data.json` file that contains the data.\n",
    "\"\"\"\n",
    "import json\n",
    "from typing import Dict, List, Optional, Union, cast\n",
    "\n"
   ]
  },
  {
   "cell_type": "markdown",
   "id": "df844f8d-93dc-4cd6-bc27-e95620f4aa88",
   "metadata": {},
   "source": [
    "**Get data**"
   ]
  },
  {
   "cell_type": "code",
   "execution_count": 14,
   "id": "cc8d50ad-b956-43e7-a351-a53219c17eaf",
   "metadata": {},
   "outputs": [],
   "source": [
    "# repo = 'python/cpython' # repository identification\n",
    "# authentications\n",
    "headers = {\"Authorization\": f\"token {github_token}\", \"User-Agent\": github_username}\n",
    "\n",
    "REPO_NAME = []\n",
    "for i in range(1, 10):\n",
    "    # url to python repos\n",
    "    python_url= f'https://github.com/search?o=desc&q=stars%3A%3E1+language%3APython&s=forks&type=Repositories&p=1&l=python={i}'\n",
    "\n",
    "    # get json rescponce\n",
    "    res = a.github_api_request(python_url)\n",
    "    # repo_content = a.get_repo_contents(repo)\n",
    "    temp_name = [REPO_NAME.append(x['hl_name']) for x in res['payload']['results']]\n"
   ]
  },
  {
   "cell_type": "code",
   "execution_count": 5,
   "id": "04cc8264-1361-429e-b887-3854c6c203e2",
   "metadata": {},
   "outputs": [],
   "source": [
    "url_link = []\n",
    "readme_con = []\n",
    "repo_names = []\n",
    "rst_file= []\n",
    "for page_repo in REPO_NAME:\n",
    "    repo_content = a.get_repo_contents(page_repo)\n",
    "    # locate the Readme.rst file link\n",
    "    for ele in range(len(repo_content)):\n",
    "        link = repo_content[ele][\"html_url\"]\n",
    "        match = re.search(f\"README\", link)\n",
    "        if match:\n",
    "            rst_file = link\n",
    "            break\n",
    "    # get the readme request\n",
    "    readme_res = requests.get(rst_file)\n",
    "    \n",
    "    if readme_res.status_code == 200:\n",
    "        # find read me content\n",
    "        soup = BeautifulSoup(readme_res.text, 'html.parser')\n",
    "        readme_content = soup.get_text()\n",
    "\n",
    "        # extract noisy charactures from the content\n",
    "        pattern = r'\"richText\":\"(.*?)\"\\s*,\\s*\"renderedFileInfo\"'\n",
    "        matches = re.findall(pattern, readme_content)\n",
    "        extracted_content = matches[0].replace(\"\\\\n\",\"\")\n",
    "        \n",
    "        # get repo language\n",
    "        repo_name = acquire.get_repo_language(page_repo)\n",
    "\n",
    "        # url and readme content of all repo\n",
    "        url_link.append(rst_file)\n",
    "        readme_con.append(extracted_content)\n",
    "        repo_names.append(repo_name)\n",
    "    else:\n",
    "        print(\"Failed to connect...!\")"
   ]
  },
  {
   "cell_type": "code",
   "execution_count": null,
   "id": "73b1b075-ed08-42a4-952b-84408e9f711a",
   "metadata": {},
   "outputs": [],
   "source": [
    "results = pd.DataFrame(REPO_NAME).assign(url = url_link, readme_content = readme_con)\n",
    "results"
   ]
  },
  {
   "cell_type": "code",
   "execution_count": null,
   "id": "d3134454-e809-417b-854d-c362ee3a86f4",
   "metadata": {},
   "outputs": [],
   "source": [
    "acquire.get"
   ]
  },
  {
   "cell_type": "code",
   "execution_count": null,
   "id": "51263993-6505-46f5-bb45-3b23148ab311",
   "metadata": {},
   "outputs": [],
   "source": []
  }
 ],
 "metadata": {
  "kernelspec": {
   "display_name": "Python 3 (ipykernel)",
   "language": "python",
   "name": "python3"
  },
  "language_info": {
   "codemirror_mode": {
    "name": "ipython",
    "version": 3
   },
   "file_extension": ".py",
   "mimetype": "text/x-python",
   "name": "python",
   "nbconvert_exporter": "python",
   "pygments_lexer": "ipython3",
   "version": "3.10.9"
  }
 },
 "nbformat": 4,
 "nbformat_minor": 5
}
