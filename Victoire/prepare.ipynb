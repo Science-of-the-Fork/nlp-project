{
 "cells": [
  {
   "cell_type": "code",
   "execution_count": 20,
   "id": "33ce3f83",
   "metadata": {},
   "outputs": [],
   "source": [
    "import pandas as pd\n",
    "import numpy as np\n",
    "from sklearn.model_selection import train_test_split\n",
    "\n",
    "import sys\n",
    "sys.path.append(\"..\")\n",
    "import acquire\n",
    "import wrangle"
   ]
  },
  {
   "cell_type": "markdown",
   "id": "94fb214a",
   "metadata": {},
   "source": [
    "## Split function"
   ]
  },
  {
   "cell_type": "code",
   "execution_count": 14,
   "id": "75091c3c",
   "metadata": {},
   "outputs": [],
   "source": [
    "###################### SPLIT READMES FUNCTION ###########################\n",
    "\n",
    "def split_readmes(df):\n",
    "    \"\"\"\n",
    "    Takes in a dataframe and performs a 70/15/15 split. Outputs a train, validate, and test dataframe\n",
    "    \"\"\"\n",
    "    # Perfrom a 70/15/15 split\n",
    "    train_val, test = train_test_split(df, test_size=.15)\n",
    "    train, validate = train_test_split(train_val, test_size=.17)\n",
    "    \n",
    "    return train, validate, test"
   ]
  },
  {
   "cell_type": "code",
   "execution_count": 15,
   "id": "b18d8fe4",
   "metadata": {},
   "outputs": [
    {
     "data": {
      "text/plain": [
       "(100, 4)"
      ]
     },
     "execution_count": 15,
     "metadata": {},
     "output_type": "execute_result"
    }
   ],
   "source": [
    "# Create a test dataframe\n",
    "data = {\n",
    "    'Name': [f'Person_{i}' for i in range(1, 101)],\n",
    "    'Age': np.random.randint(18, 65, size=100),\n",
    "    'City': np.random.choice(['New York', 'Los Angeles', 'Chicago', 'Houston', 'Miami'], size=100),\n",
    "    'Salary': np.random.randint(30000, 120000, size=100),\n",
    "}\n",
    "\n",
    "# Create the DataFrame\n",
    "df = pd.DataFrame(data)\n",
    "df.shape"
   ]
  },
  {
   "cell_type": "code",
   "execution_count": 16,
   "id": "c502a9bf",
   "metadata": {},
   "outputs": [],
   "source": [
    "train, validate, test = split_readmes(df)"
   ]
  },
  {
   "cell_type": "markdown",
   "id": "1f734579",
   "metadata": {},
   "source": [
    "## Clean function"
   ]
  },
  {
   "cell_type": "code",
   "execution_count": null,
   "id": "cccc638c",
   "metadata": {},
   "outputs": [],
   "source": []
  },
  {
   "cell_type": "code",
   "execution_count": 17,
   "id": "3496f453",
   "metadata": {},
   "outputs": [],
   "source": [
    "###################### BASIC CLEAN FUNCTION ######################\n",
    "\n",
    "def basic_clean(string):\n",
    "    \"\"\"\n",
    "    This function puts a string in lowercase, normalizes any unicode characters,\n",
    "    Removes anything that isn't an alphanumeric symbol or single quote.\n",
    "    \"\"\"\n",
    "    # Normalize unicode characters\n",
    "    string = unicodedata.normalize('NFKD', string)\\\n",
    "    .encode('ascii', 'ignore')\\\n",
    "    .decode('utf-8', 'ignore')\n",
    "    \n",
    "    # Remove unwanted characters and put string in lowercase\n",
    "    string = re.sub(r\"[^\\w0-9'\\s]\", '', string).lower()\n",
    "            \n",
    "    return string"
   ]
  },
  {
   "cell_type": "markdown",
   "id": "665809c4",
   "metadata": {},
   "source": [
    "## Stem function"
   ]
  },
  {
   "cell_type": "code",
   "execution_count": null,
   "id": "0ab5e870",
   "metadata": {},
   "outputs": [],
   "source": [
    "import os\n",
    "def get_data(data_=1):\n",
    "    \"\"\"\n",
    "    return existing data from csv in current working directory if the file exists,\n",
    "    else with web scraping methods to get the data\n",
    "    \"\"\"\n",
    "    if data_ == 1:\n",
    "        file = \".csv\"\n",
    "        if os.path.exists(file):\n",
    "            return pd.read_csv(file)\n",
    "        else:\n",
    "            return acquire.get_github_python_data()\n",
    "    elif data_ == 2:\n",
    "        file = \".csv\"\n",
    "        if os.path.exists(file):\n",
    "            return pd.read_csv(file)\n",
    "        else:\n",
    "            return acquire.get_github_java_script_data()\n"
   ]
  },
  {
   "cell_type": "markdown",
   "id": "d411620b",
   "metadata": {},
   "source": [
    "## Lemmatize function"
   ]
  },
  {
   "cell_type": "code",
   "execution_count": null,
   "id": "b01cd441",
   "metadata": {},
   "outputs": [],
   "source": []
  },
  {
   "cell_type": "code",
   "execution_count": 32,
   "id": "5123536b-9323-4527-bc05-3a9bdc713f94",
   "metadata": {},
   "outputs": [],
   "source": [
    "df = acquire.get_github_python_data()"
   ]
  },
  {
   "cell_type": "code",
   "execution_count": null,
   "id": "9a313b13-7a6a-46b8-bcc8-6e775c9a578e",
   "metadata": {},
   "outputs": [],
   "source": []
  }
 ],
 "metadata": {
  "kernelspec": {
   "display_name": "Python 3 (ipykernel)",
   "language": "python",
   "name": "python3"
  },
  "language_info": {
   "codemirror_mode": {
    "name": "ipython",
    "version": 3
   },
   "file_extension": ".py",
   "mimetype": "text/x-python",
   "name": "python",
   "nbconvert_exporter": "python",
   "pygments_lexer": "ipython3",
   "version": "3.10.9"
  }
 },
 "nbformat": 4,
 "nbformat_minor": 5
}
