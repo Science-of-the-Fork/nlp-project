{
 "cells": [
  {
   "cell_type": "code",
   "execution_count": 1,
   "id": "7e943d2d-18d6-45cb-bd66-a96904abfb11",
   "metadata": {
    "tags": []
   },
   "outputs": [],
   "source": [
    "import acquire as a\n",
    "import unicodedata\n",
    "import re\n",
    "import json\n",
    "import wrangle as w\n",
    "import nltk\n",
    "from nltk.tokenize.toktok import ToktokTokenizer\n",
    "from nltk.corpus import stopwords\n",
    "from collections import Counter\n",
    "from sklearn.feature_extraction.text import CountVectorizer\n",
    "from scipy.stats import ttest_ind\n",
    "import pandas as pd\n",
    "import acquire\n",
    "from time import strftime\n",
    "import warnings\n",
    "warnings.filterwarnings('ignore')\n",
    "import env \n",
    "import numpy as np\n",
    "import requests\n",
    "from bs4 import BeautifulSoup\n",
    "import re\n",
    "from sklearn.model_selection import train_test_split\n",
    "from sklearn.metrics import confusion_matrix\n",
    "from sklearn.linear_model import LogisticRegression\n",
    "from sklearn.ensemble import RandomForestClassifier\n",
    "from sklearn.tree import DecisionTreeClassifier, plot_tree\n",
    "from sklearn.neighbors import KNeighborsClassifier\n",
    "from sklearn.metrics import accuracy_score\n",
    "from sklearn.metrics import classification_report, confusion_matrix, ConfusionMatrixDisplay\n",
    "import scipy.stats as stats\n",
    "from scipy.stats import  chi2_contingency\n",
    "import matplotlib.pyplot as plt\n",
    "%matplotlib inline\n",
    "import seaborn as sns\n",
    "\n"
   ]
  },
  {
   "cell_type": "code",
   "execution_count": 2,
   "id": "9b2ccd98-6c79-488e-80c1-4c6aef65b757",
   "metadata": {
    "tags": []
   },
   "outputs": [
    {
     "name": "stdout",
     "output_type": "stream",
     "text": [
      "Returning Python and Java-script data\n"
     ]
    }
   ],
   "source": [
    "train, validate, test = w.wrangle_readmes()"
   ]
  },
  {
   "cell_type": "code",
   "execution_count": 3,
   "id": "cf68558c-d939-47a4-ac2a-7b98d5b9a02e",
   "metadata": {
    "tags": []
   },
   "outputs": [
    {
     "data": {
      "text/html": [
       "<div>\n",
       "<style scoped>\n",
       "    .dataframe tbody tr th:only-of-type {\n",
       "        vertical-align: middle;\n",
       "    }\n",
       "\n",
       "    .dataframe tbody tr th {\n",
       "        vertical-align: top;\n",
       "    }\n",
       "\n",
       "    .dataframe thead th {\n",
       "        text-align: right;\n",
       "    }\n",
       "</style>\n",
       "<table border=\"1\" class=\"dataframe\">\n",
       "  <thead>\n",
       "    <tr style=\"text-align: right;\">\n",
       "      <th></th>\n",
       "      <th>Unnamed: 0</th>\n",
       "      <th>repo_name</th>\n",
       "      <th>url</th>\n",
       "      <th>language</th>\n",
       "      <th>readme_content</th>\n",
       "      <th>cleaned_content</th>\n",
       "      <th>lemmatized</th>\n",
       "    </tr>\n",
       "  </thead>\n",
       "  <tbody>\n",
       "    <tr>\n",
       "      <th>88</th>\n",
       "      <td>88</td>\n",
       "      <td>localstack/localstack</td>\n",
       "      <td>https://github.com/localstack/localstack/blob/...</td>\n",
       "      <td>Python</td>\n",
       "      <td>⚡ We are thrilled to announce LocalStack 2.2 w...</td>\n",
       "      <td>we are thrilled to announce localstack 22 whi...</td>\n",
       "      <td>thrilled announce localstack 22 brings new fea...</td>\n",
       "    </tr>\n",
       "    <tr>\n",
       "      <th>4</th>\n",
       "      <td>4</td>\n",
       "      <td>zero-to-mastery/start-here-guidelines</td>\n",
       "      <td>https://github.com/zero-to-mastery/start-here-...</td>\n",
       "      <td>Python</td>\n",
       "      <td>One rule of this community:We don't care if yo...</td>\n",
       "      <td>one rule of this communitywe don't care if you...</td>\n",
       "      <td>one rule communitywe care break thing playgrou...</td>\n",
       "    </tr>\n",
       "    <tr>\n",
       "      <th>13</th>\n",
       "      <td>13</td>\n",
       "      <td>bettiolo/node-echo</td>\n",
       "      <td>https://github.com/bettiolo/node-echo/blob/mas...</td>\n",
       "      <td>JavaScript</td>\n",
       "      <td>node-echonode.js echo server, returns request ...</td>\n",
       "      <td>nodeechonodejs echo server returns request dat...</td>\n",
       "      <td>nodeechonodejs echo server return request data...</td>\n",
       "    </tr>\n",
       "    <tr>\n",
       "      <th>10</th>\n",
       "      <td>10</td>\n",
       "      <td>chartjs/Chart.js</td>\n",
       "      <td>https://github.com/chartjs/Chart.js/blob/maste...</td>\n",
       "      <td>JavaScript</td>\n",
       "      <td>Simple yet flexible JavaScript cha...</td>\n",
       "      <td>simple yet flexible javascript cha...</td>\n",
       "      <td>simple yet flexible javascript charting design...</td>\n",
       "    </tr>\n",
       "    <tr>\n",
       "      <th>81</th>\n",
       "      <td>81</td>\n",
       "      <td>gulpjs/gulp</td>\n",
       "      <td>https://github.com/gulpjs/gulp/blob/master/REA...</td>\n",
       "      <td>JavaScript</td>\n",
       "      <td>The streaming build system        Wh...</td>\n",
       "      <td>the streaming build system        wh...</td>\n",
       "      <td>streaming build system gulpautomation gulp too...</td>\n",
       "    </tr>\n",
       "    <tr>\n",
       "      <th>...</th>\n",
       "      <td>...</td>\n",
       "      <td>...</td>\n",
       "      <td>...</td>\n",
       "      <td>...</td>\n",
       "      <td>...</td>\n",
       "      <td>...</td>\n",
       "      <td>...</td>\n",
       "    </tr>\n",
       "    <tr>\n",
       "      <th>32</th>\n",
       "      <td>32</td>\n",
       "      <td>learn-co-curriculum/phase-1-scope-lab</td>\n",
       "      <td>https://github.com/learn-co-curriculum/phase-1...</td>\n",
       "      <td>JavaScript</td>\n",
       "      <td>Scope LabLearning GoalsUnderstand how function...</td>\n",
       "      <td>scope lablearning goalsunderstand how function...</td>\n",
       "      <td>scope lablearning goalsunderstand function det...</td>\n",
       "    </tr>\n",
       "    <tr>\n",
       "      <th>80</th>\n",
       "      <td>80</td>\n",
       "      <td>swisskyrepo/PayloadsAllTheThings</td>\n",
       "      <td>https://github.com/swisskyrepo/PayloadsAllTheT...</td>\n",
       "      <td>Python</td>\n",
       "      <td>Payloads All The ThingsA list of useful payloa...</td>\n",
       "      <td>payloads all the thingsa list of useful payloa...</td>\n",
       "      <td>payload thingsa list useful payload bypass web...</td>\n",
       "    </tr>\n",
       "    <tr>\n",
       "      <th>21</th>\n",
       "      <td>21</td>\n",
       "      <td>keras-team/keras</td>\n",
       "      <td>https://github.com/keras-team/keras/blob/maste...</td>\n",
       "      <td>Python</td>\n",
       "      <td>Keras: Deep Learning for humansThis repository...</td>\n",
       "      <td>keras deep learning for humansthis repository ...</td>\n",
       "      <td>kera deep learning humansthis repository host ...</td>\n",
       "    </tr>\n",
       "    <tr>\n",
       "      <th>84</th>\n",
       "      <td>84</td>\n",
       "      <td>miguelgrinberg/flasky</td>\n",
       "      <td>https://github.com/miguelgrinberg/flasky/blob/...</td>\n",
       "      <td>Python</td>\n",
       "      <td>FlaskyThis repository contains the source code...</td>\n",
       "      <td>flaskythis repository contains the source code...</td>\n",
       "      <td>flaskythis repository contains source code exa...</td>\n",
       "    </tr>\n",
       "    <tr>\n",
       "      <th>82</th>\n",
       "      <td>82</td>\n",
       "      <td>emberjs/ember.js</td>\n",
       "      <td>https://github.com/emberjs/ember.js/blob/main/...</td>\n",
       "      <td>JavaScript</td>\n",
       "      <td>Ember.js is a JavaScript framewo...</td>\n",
       "      <td>emberjs is a javascript framewor...</td>\n",
       "      <td>emberjs javascript framework greatly reduces t...</td>\n",
       "    </tr>\n",
       "  </tbody>\n",
       "</table>\n",
       "<p>125 rows × 7 columns</p>\n",
       "</div>"
      ],
      "text/plain": [
       "    Unnamed: 0                              repo_name  \\\n",
       "88          88                  localstack/localstack   \n",
       "4            4  zero-to-mastery/start-here-guidelines   \n",
       "13          13                     bettiolo/node-echo   \n",
       "10          10                       chartjs/Chart.js   \n",
       "81          81                            gulpjs/gulp   \n",
       "..         ...                                    ...   \n",
       "32          32  learn-co-curriculum/phase-1-scope-lab   \n",
       "80          80       swisskyrepo/PayloadsAllTheThings   \n",
       "21          21                       keras-team/keras   \n",
       "84          84                  miguelgrinberg/flasky   \n",
       "82          82                       emberjs/ember.js   \n",
       "\n",
       "                                                  url    language  \\\n",
       "88  https://github.com/localstack/localstack/blob/...      Python   \n",
       "4   https://github.com/zero-to-mastery/start-here-...      Python   \n",
       "13  https://github.com/bettiolo/node-echo/blob/mas...  JavaScript   \n",
       "10  https://github.com/chartjs/Chart.js/blob/maste...  JavaScript   \n",
       "81  https://github.com/gulpjs/gulp/blob/master/REA...  JavaScript   \n",
       "..                                                ...         ...   \n",
       "32  https://github.com/learn-co-curriculum/phase-1...  JavaScript   \n",
       "80  https://github.com/swisskyrepo/PayloadsAllTheT...      Python   \n",
       "21  https://github.com/keras-team/keras/blob/maste...      Python   \n",
       "84  https://github.com/miguelgrinberg/flasky/blob/...      Python   \n",
       "82  https://github.com/emberjs/ember.js/blob/main/...  JavaScript   \n",
       "\n",
       "                                       readme_content  \\\n",
       "88  ⚡ We are thrilled to announce LocalStack 2.2 w...   \n",
       "4   One rule of this community:We don't care if yo...   \n",
       "13  node-echonode.js echo server, returns request ...   \n",
       "10              Simple yet flexible JavaScript cha...   \n",
       "81            The streaming build system        Wh...   \n",
       "..                                                ...   \n",
       "32  Scope LabLearning GoalsUnderstand how function...   \n",
       "80  Payloads All The ThingsA list of useful payloa...   \n",
       "21  Keras: Deep Learning for humansThis repository...   \n",
       "84  FlaskyThis repository contains the source code...   \n",
       "82                Ember.js is a JavaScript framewo...   \n",
       "\n",
       "                                      cleaned_content  \\\n",
       "88   we are thrilled to announce localstack 22 whi...   \n",
       "4   one rule of this communitywe don't care if you...   \n",
       "13  nodeechonodejs echo server returns request dat...   \n",
       "10              simple yet flexible javascript cha...   \n",
       "81            the streaming build system        wh...   \n",
       "..                                                ...   \n",
       "32  scope lablearning goalsunderstand how function...   \n",
       "80  payloads all the thingsa list of useful payloa...   \n",
       "21  keras deep learning for humansthis repository ...   \n",
       "84  flaskythis repository contains the source code...   \n",
       "82                emberjs is a javascript framewor...   \n",
       "\n",
       "                                           lemmatized  \n",
       "88  thrilled announce localstack 22 brings new fea...  \n",
       "4   one rule communitywe care break thing playgrou...  \n",
       "13  nodeechonodejs echo server return request data...  \n",
       "10  simple yet flexible javascript charting design...  \n",
       "81  streaming build system gulpautomation gulp too...  \n",
       "..                                                ...  \n",
       "32  scope lablearning goalsunderstand function det...  \n",
       "80  payload thingsa list useful payload bypass web...  \n",
       "21  kera deep learning humansthis repository host ...  \n",
       "84  flaskythis repository contains source code exa...  \n",
       "82  emberjs javascript framework greatly reduces t...  \n",
       "\n",
       "[125 rows x 7 columns]"
      ]
     },
     "execution_count": 3,
     "metadata": {},
     "output_type": "execute_result"
    }
   ],
   "source": [
    "train\n"
   ]
  },
  {
   "cell_type": "code",
   "execution_count": 4,
   "id": "b7ca6ac2-c5a5-4e94-b913-f44f5ea653f3",
   "metadata": {
    "tags": []
   },
   "outputs": [],
   "source": [
    "python_words =  \" \".join(train[train.language == 'Python'].lemmatized)\n",
    "javascript_words =  \" \".join(train[train.language == 'JavaScript'].lemmatized)\n",
    "all_words = \" \".join(train.lemmatized)\n"
   ]
  },
  {
   "cell_type": "code",
   "execution_count": 5,
   "id": "86b3700c-bebd-49c0-98ea-fac040f1ad96",
   "metadata": {
    "tags": []
   },
   "outputs": [],
   "source": [
    "\n",
    "\n",
    "def generate_bigrams(lemmatized):\n",
    "    words = lemmatized.split()\n",
    "    bigrams = []\n",
    "\n",
    "    if len(words) < 2:\n",
    "        return bigrams\n",
    "\n",
    "    for i in range(len(words) - 1):\n",
    "        if len(words[i]) > 1 and len(words[i+1]) > 1:\n",
    "            bigram = \" \".join(words[i:i+2])\n",
    "            bigrams.append(bigram)\n",
    "\n",
    "    return bigrams\n",
    "\n"
   ]
  },
  {
   "cell_type": "code",
   "execution_count": 6,
   "id": "5ab71eb3-1ee6-4d37-8e43-e6d5d9ce6665",
   "metadata": {
    "tags": []
   },
   "outputs": [],
   "source": [
    "all_text = all_words\n",
    "python_text = python_words\n",
    "javascript_text = javascript_words"
   ]
  },
  {
   "cell_type": "code",
   "execution_count": 7,
   "id": "39ed743f-1f3e-4459-bc91-4fb49abeaf22",
   "metadata": {
    "tags": []
   },
   "outputs": [],
   "source": [
    "all_bigrams = generate_bigrams(all_text)\n",
    "python_bigrams = generate_bigrams(python_text)\n",
    "javascript_bigrams = generate_bigrams(javascript_text)"
   ]
  },
  {
   "cell_type": "code",
   "execution_count": 8,
   "id": "4345ab36-0de5-43c1-9206-04cfa26650f8",
   "metadata": {
    "tags": []
   },
   "outputs": [],
   "source": [
    "all_df = pd.DataFrame({'All Bigrams': all_bigrams})\n",
    "python_df = pd.DataFrame({'Python Bigrams': python_bigrams})\n",
    "javascript_df = pd.DataFrame({'JavaScript Bigrams': javascript_bigrams})"
   ]
  },
  {
   "cell_type": "code",
   "execution_count": 9,
   "id": "f4b87942-f62a-4bbc-a339-fdccc97e5ee0",
   "metadata": {
    "tags": []
   },
   "outputs": [
    {
     "data": {
      "text/html": [
       "<div>\n",
       "<style scoped>\n",
       "    .dataframe tbody tr th:only-of-type {\n",
       "        vertical-align: middle;\n",
       "    }\n",
       "\n",
       "    .dataframe tbody tr th {\n",
       "        vertical-align: top;\n",
       "    }\n",
       "\n",
       "    .dataframe thead th {\n",
       "        text-align: right;\n",
       "    }\n",
       "</style>\n",
       "<table border=\"1\" class=\"dataframe\">\n",
       "  <thead>\n",
       "    <tr style=\"text-align: right;\">\n",
       "      <th></th>\n",
       "      <th>Python Bigrams</th>\n",
       "    </tr>\n",
       "  </thead>\n",
       "  <tbody>\n",
       "    <tr>\n",
       "      <th>0</th>\n",
       "      <td>thrilled announce</td>\n",
       "    </tr>\n",
       "    <tr>\n",
       "      <th>1</th>\n",
       "      <td>announce localstack</td>\n",
       "    </tr>\n",
       "    <tr>\n",
       "      <th>2</th>\n",
       "      <td>localstack 22</td>\n",
       "    </tr>\n",
       "    <tr>\n",
       "      <th>3</th>\n",
       "      <td>22 brings</td>\n",
       "    </tr>\n",
       "    <tr>\n",
       "      <th>4</th>\n",
       "      <td>brings new</td>\n",
       "    </tr>\n",
       "    <tr>\n",
       "      <th>...</th>\n",
       "      <td>...</td>\n",
       "    </tr>\n",
       "    <tr>\n",
       "      <th>64615</th>\n",
       "      <td>edition book</td>\n",
       "    </tr>\n",
       "    <tr>\n",
       "      <th>64616</th>\n",
       "      <td>book moved</td>\n",
       "    </tr>\n",
       "    <tr>\n",
       "      <th>64617</th>\n",
       "      <td>moved different</td>\n",
       "    </tr>\n",
       "    <tr>\n",
       "      <th>64618</th>\n",
       "      <td>different repository</td>\n",
       "    </tr>\n",
       "    <tr>\n",
       "      <th>64619</th>\n",
       "      <td>repository httpsgithubcommiguelgrinbergflaskyf...</td>\n",
       "    </tr>\n",
       "  </tbody>\n",
       "</table>\n",
       "<p>64620 rows × 1 columns</p>\n",
       "</div>"
      ],
      "text/plain": [
       "                                          Python Bigrams\n",
       "0                                      thrilled announce\n",
       "1                                    announce localstack\n",
       "2                                          localstack 22\n",
       "3                                              22 brings\n",
       "4                                             brings new\n",
       "...                                                  ...\n",
       "64615                                       edition book\n",
       "64616                                         book moved\n",
       "64617                                    moved different\n",
       "64618                               different repository\n",
       "64619  repository httpsgithubcommiguelgrinbergflaskyf...\n",
       "\n",
       "[64620 rows x 1 columns]"
      ]
     },
     "execution_count": 9,
     "metadata": {},
     "output_type": "execute_result"
    }
   ],
   "source": [
    "python_df"
   ]
  },
  {
   "cell_type": "code",
   "execution_count": 10,
   "id": "514ae7f0-8da4-4b02-af67-0acbc8cdd463",
   "metadata": {
    "tags": []
   },
   "outputs": [
    {
     "data": {
      "text/html": [
       "<div>\n",
       "<style scoped>\n",
       "    .dataframe tbody tr th:only-of-type {\n",
       "        vertical-align: middle;\n",
       "    }\n",
       "\n",
       "    .dataframe tbody tr th {\n",
       "        vertical-align: top;\n",
       "    }\n",
       "\n",
       "    .dataframe thead th {\n",
       "        text-align: right;\n",
       "    }\n",
       "</style>\n",
       "<table border=\"1\" class=\"dataframe\">\n",
       "  <thead>\n",
       "    <tr style=\"text-align: right;\">\n",
       "      <th></th>\n",
       "      <th>All Bigrams</th>\n",
       "    </tr>\n",
       "  </thead>\n",
       "  <tbody>\n",
       "    <tr>\n",
       "      <th>0</th>\n",
       "      <td>thrilled announce</td>\n",
       "    </tr>\n",
       "    <tr>\n",
       "      <th>1</th>\n",
       "      <td>announce localstack</td>\n",
       "    </tr>\n",
       "    <tr>\n",
       "      <th>2</th>\n",
       "      <td>localstack 22</td>\n",
       "    </tr>\n",
       "    <tr>\n",
       "      <th>3</th>\n",
       "      <td>22 brings</td>\n",
       "    </tr>\n",
       "    <tr>\n",
       "      <th>4</th>\n",
       "      <td>brings new</td>\n",
       "    </tr>\n",
       "    <tr>\n",
       "      <th>...</th>\n",
       "      <td>...</td>\n",
       "    </tr>\n",
       "    <tr>\n",
       "      <th>84266</th>\n",
       "      <td>appsfind morewebsiteguidesapicommunityblogbuil...</td>\n",
       "    </tr>\n",
       "    <tr>\n",
       "      <th>84267</th>\n",
       "      <td>morewebsiteguidesapicommunityblogbuildscontrib...</td>\n",
       "    </tr>\n",
       "    <tr>\n",
       "      <th>84268</th>\n",
       "      <td>contributingmdcrossbrowser testing</td>\n",
       "    </tr>\n",
       "    <tr>\n",
       "      <th>84269</th>\n",
       "      <td>testing provided</td>\n",
       "    </tr>\n",
       "    <tr>\n",
       "      <th>84270</th>\n",
       "      <td>provided browserstack</td>\n",
       "    </tr>\n",
       "  </tbody>\n",
       "</table>\n",
       "<p>84271 rows × 1 columns</p>\n",
       "</div>"
      ],
      "text/plain": [
       "                                             All Bigrams\n",
       "0                                      thrilled announce\n",
       "1                                    announce localstack\n",
       "2                                          localstack 22\n",
       "3                                              22 brings\n",
       "4                                             brings new\n",
       "...                                                  ...\n",
       "84266  appsfind morewebsiteguidesapicommunityblogbuil...\n",
       "84267  morewebsiteguidesapicommunityblogbuildscontrib...\n",
       "84268                 contributingmdcrossbrowser testing\n",
       "84269                                   testing provided\n",
       "84270                              provided browserstack\n",
       "\n",
       "[84271 rows x 1 columns]"
      ]
     },
     "execution_count": 10,
     "metadata": {},
     "output_type": "execute_result"
    }
   ],
   "source": [
    "all_df"
   ]
  },
  {
   "cell_type": "code",
   "execution_count": 11,
   "id": "62a3b51c-c608-4dd9-97a7-b23b4921fed5",
   "metadata": {
    "tags": []
   },
   "outputs": [],
   "source": [
    "all_freq = all_df['All Bigrams'].value_counts()\n",
    "python_freq = python_df['Python Bigrams'].value_counts()\n",
    "javascript_freq = javascript_df['JavaScript Bigrams'].value_counts()"
   ]
  },
  {
   "cell_type": "code",
   "execution_count": 13,
   "id": "d182502a-30cb-4db9-ab5f-bd77ebb7c516",
   "metadata": {
    "tags": []
   },
   "outputs": [
    {
     "data": {
      "image/png": "[encoded data removed]",
      "text/plain": [
       "<Figure size 640x480 with 1 Axes>"
      ]
     },
     "metadata": {},
     "output_type": "display_data"
    }
   ],
   "source": [
    "top_python_freq = python_freq.head(10)\n",
    "top_python_freq.plot(kind='bar', title='Top Python Bigram Frequencies')\n",
    "plt.xlabel('Bigram')\n",
    "plt.ylabel('Frequency')\n",
    "plt.xticks(rotation=90)\n",
    "plt.tight_layout()\n",
    "plt.show()"
   ]
  },
  {
   "cell_type": "code",
   "execution_count": 14,
   "id": "0a98cd80-0b1d-44eb-8d4a-58ea25e8c247",
   "metadata": {
    "tags": []
   },
   "outputs": [
    {
     "data": {
      "text/plain": [
       "released paper        579\n",
       "et al                 121\n",
       "ai released           105\n",
       "research released     102\n",
       "language model         85\n",
       "microsoft research     67\n",
       "facebook released      60\n",
       "pretrained model       54\n",
       "naman goyal            51\n",
       "google research        42\n",
       "Name: Python Bigrams, dtype: int64"
      ]
     },
     "execution_count": 14,
     "metadata": {},
     "output_type": "execute_result"
    }
   ],
   "source": [
    "top_python_freq"
   ]
  },
  {
   "cell_type": "code",
   "execution_count": null,
   "id": "df924efe-1047-41cc-aef3-3fc97e6372a4",
   "metadata": {},
   "outputs": [],
   "source": []
  },
  {
   "cell_type": "code",
   "execution_count": 15,
   "id": "86e8c992-a4e8-4c33-b0f6-bf5a05033f92",
   "metadata": {
    "tags": []
   },
   "outputs": [
    {
     "data": {
      "image/png": "[encoded data removed]",
      "text/plain": [
       "<Figure size 640x480 with 1 Axes>"
      ]
     },
     "metadata": {},
     "output_type": "display_data"
    }
   ],
   "source": [
    "top_javascript_freq = javascript_freq.head(10)\n",
    "top_javascript_freq.plot(kind='bar', title='Top JavaScript Bigram Frequencies')\n",
    "plt.xlabel('Bigram')\n",
    "plt.ylabel('Frequency')\n",
    "plt.xticks(rotation=90)\n",
    "plt.tight_layout()\n",
    "plt.show()"
   ]
  },
  {
   "cell_type": "code",
   "execution_count": 16,
   "id": "6b8aec3b-d733-4dd4-919d-c69a891735cb",
   "metadata": {
    "tags": []
   },
   "outputs": [
    {
     "data": {
      "text/plain": [
       "make sure             30\n",
       "npm install           21\n",
       "task implement        18\n",
       "run npm               15\n",
       "implement function    14\n",
       "packagejson file      14\n",
       "run test              14\n",
       "run code              13\n",
       "function accepts      13\n",
       "pull request          12\n",
       "Name: JavaScript Bigrams, dtype: int64"
      ]
     },
     "execution_count": 16,
     "metadata": {},
     "output_type": "execute_result"
    }
   ],
   "source": [
    "top_javascript_freq"
   ]
  },
  {
   "cell_type": "code",
   "execution_count": null,
   "id": "8741acad-c968-45d5-905c-821ea82e3aa3",
   "metadata": {
    "tags": []
   },
   "outputs": [],
   "source": [
    "from wordcloud import WordCloud\n",
    "%matplotlib inline\n",
    "import matplotlib.pyplot as plt\n",
    "import seaborn as sns\n",
    "import acquire as a\n",
    "from collections import Counter\n",
    "\n",
    "\n",
    "all_cloud = WordCloud(background_color='white', height=1000, width=400).generate((all_words))\n",
    "python_cloud = WordCloud(background_color='white', height=600, width=800).generate((python_words))\n",
    "javascript_cloud = WordCloud(background_color='white', height=600, width=800).generate((javascript_words))\n",
    "\n",
    "plt.figure(figsize=(10, 8))\n",
    "axs = [plt.axes([0, 0, .5, 1]), plt.axes([.5, .5, .5, .5]), plt.axes([.5, 0, .5, .5])]\n",
    "\n",
    "axs[0].imshow(all_cloud)\n",
    "axs[1].imshow(python_cloud)\n",
    "axs[2].imshow(javascript_cloud)\n",
    "\n",
    "axs[0].set_title('All Words')\n",
    "axs[1].set_title('Python')\n",
    "axs[2].set_title('Javascript')\n",
    "\n",
    "for ax in axs: ax.axis('off')"
   ]
  },
  {
   "cell_type": "code",
   "execution_count": null,
   "id": "ef8c0922-e4de-4ca2-a21b-84cf41ff582d",
   "metadata": {
    "tags": []
   },
   "outputs": [],
   "source": [
    "python_bigrams = generate_bigrams(python_text)\n",
    "javascript_bigrams = generate_bigrams(javascript_text)"
   ]
  },
  {
   "cell_type": "code",
   "execution_count": null,
   "id": "4f1f24c5-07f6-4c3e-b7cc-31dc0a0fb584",
   "metadata": {
    "tags": []
   },
   "outputs": [],
   "source": [
    "python_bigrams_set = set(python_bigrams)\n",
    "javascript_bigrams_set = set(javascript_bigrams)"
   ]
  },
  {
   "cell_type": "code",
   "execution_count": null,
   "id": "b429ce1e-dd74-4230-be3a-6fa3682c426b",
   "metadata": {
    "tags": []
   },
   "outputs": [],
   "source": [
    "overlap_bigrams = python_bigrams_set.intersection(javascript_bigrams_set)"
   ]
  },
  {
   "cell_type": "code",
   "execution_count": null,
   "id": "63740889-1f8a-49f1-bcae-46646d3233a7",
   "metadata": {
    "tags": []
   },
   "outputs": [],
   "source": [
    "overlap_bigrams"
   ]
  },
  {
   "cell_type": "code",
   "execution_count": null,
   "id": "59703872-2ecc-4a24-a9e5-521bc3647fc9",
   "metadata": {
    "tags": []
   },
   "outputs": [],
   "source": [
    "word_counts = (pd.concat([all_freq, python_freq, javascript_freq], axis=1, sort=True)\n",
    "                .set_axis(['all', 'python', 'javascript'], axis=1)\n",
    "                .fillna(0)\n",
    "                .apply(lambda s: s.astype(int)))\n",
    "\n",
    "word_counts.head()\n"
   ]
  },
  {
   "cell_type": "code",
   "execution_count": null,
   "id": "76a2f861-752d-4f0a-904c-4f2e6aa520aa",
   "metadata": {
    "tags": []
   },
   "outputs": [],
   "source": [
    "word_counts.sort_values(by='all', ascending=False).head(10)\n"
   ]
  },
  {
   "cell_type": "code",
   "execution_count": null,
   "id": "0bd635b4-deb0-4afb-9c9c-7a42b0f77aed",
   "metadata": {
    "tags": []
   },
   "outputs": [],
   "source": [
    "pd.concat([word_counts[word_counts.python == 0].sort_values(by='python').tail(6),\n",
    "           word_counts[word_counts.javascript == 0].sort_values(by='javascript').tail(6)])\n"
   ]
  },
  {
   "cell_type": "code",
   "execution_count": null,
   "id": "1f0e5281-b8a8-47bb-8a4d-959f517ca5be",
   "metadata": {
    "tags": []
   },
   "outputs": [],
   "source": [
    "(word_counts\n",
    " .assign(javascript=word_counts.javascript / word_counts['all'],\n",
    "         python=word_counts.python / word_counts['all'])\n",
    " .sort_values(by='all')\n",
    " [['python', 'javascript']]\n",
    " .tail(20)\n",
    " .sort_values('javascript')\n",
    " .plot.barh(stacked=True))\n",
    "\n",
    "plt.title('Proportion of python vs javascript for the 20 most common words')\n"
   ]
  }
 ],
 "metadata": {
  "kernelspec": {
   "display_name": "Python 3 (ipykernel)",
   "language": "python",
   "name": "python3"
  },
  "language_info": {
   "codemirror_mode": {
    "name": "ipython",
    "version": 3
   },
   "file_extension": ".py",
   "mimetype": "text/x-python",
   "name": "python",
   "nbconvert_exporter": "python",
   "pygments_lexer": "ipython3",
   "version": "3.10.9"
  }
 },
 "nbformat": 4,
 "nbformat_minor": 5
}
