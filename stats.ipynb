{
 "cells": [
  {
   "cell_type": "markdown",
   "id": "ecba1723-bd8e-4a2e-958e-fcf1e28cb61e",
   "metadata": {},
   "source": [
    "# STATS"
   ]
  },
  {
   "cell_type": "code",
   "execution_count": 1,
   "id": "caa36df0-acb8-41e1-95f9-1086f35ee353",
   "metadata": {
    "tags": []
   },
   "outputs": [],
   "source": [
    "import acquire as a\n",
    "import unicodedata\n",
    "import re\n",
    "import json\n",
    "import wrangle as w\n",
    "import nltk\n",
    "from nltk.tokenize.toktok import ToktokTokenizer\n",
    "from nltk.corpus import stopwords\n",
    "from collections import Counter\n",
    "from sklearn.feature_extraction.text import CountVectorizer\n",
    "from scipy.stats import ttest_ind\n",
    "import pandas as pd\n",
    "import acquire\n",
    "from time import strftime\n",
    "import warnings\n",
    "warnings.filterwarnings('ignore')\n",
    "import env \n",
    "import numpy as np\n",
    "import requests\n",
    "from bs4 import BeautifulSoup\n",
    "import re\n",
    "from sklearn.model_selection import train_test_split\n",
    "from sklearn.metrics import confusion_matrix\n",
    "from sklearn.linear_model import LogisticRegression\n",
    "from sklearn.ensemble import RandomForestClassifier\n",
    "from sklearn.tree import DecisionTreeClassifier, plot_tree\n",
    "from sklearn.neighbors import KNeighborsClassifier\n",
    "from sklearn.metrics import accuracy_score\n",
    "from sklearn.metrics import classification_report, confusion_matrix, ConfusionMatrixDisplay\n",
    "import scipy.stats as stats\n",
    "from scipy.stats import  chi2_contingency\n",
    "import matplotlib.pyplot as plt\n",
    "%matplotlib inline\n",
    "import seaborn as sns\n",
    "\n"
   ]
  },
  {
   "cell_type": "code",
   "execution_count": 2,
   "id": "3c89bed3-aef2-44d9-b223-8301f5a50367",
   "metadata": {
    "tags": []
   },
   "outputs": [
    {
     "name": "stdout",
     "output_type": "stream",
     "text": [
      "Returning Python and Java-script data\n"
     ]
    }
   ],
   "source": [
    "train, test, validate = w.wrangle_readmes()"
   ]
  },
  {
   "cell_type": "code",
   "execution_count": 3,
   "id": "93511be3-a6d6-44cd-93a1-e9331690fa0f",
   "metadata": {
    "tags": []
   },
   "outputs": [],
   "source": [
    "df = train\n",
    "\n",
    "vectorizer = CountVectorizer()\n",
    "\n",
    "X_train = vectorizer.fit_transform(df[\"lemmatized\"])\n",
    "\n",
    "word_frequencies_df = pd.DataFrame(X_train.toarray(), columns=vectorizer.get_feature_names_out())\n",
    "\n",
    "word_frequencies_total = word_frequencies_df.sum()\n",
    "\n",
    "top_n = 80\n",
    "top_words = word_frequencies_total.sort_values(ascending=False).index[:top_n]\n",
    "\n",
    "for word in top_words:\n",
    "    word_frequencies_by_language = {language: [] for language in df[\"language\"].unique()}\n",
    "    for index, row in df.iterrows():\n",
    "        words = row[\"lemmatized\"].split()\n",
    "        if word in words:\n",
    "            word_frequencies_by_language[row[\"language\"]].append(words.count(word))\n",
    "\n",
    "    language_groups = [word_frequencies_by_language[language] for language in df[\"language\"].unique()]\n",
    "    statistic, p_value = ttest_ind(*language_groups)\n",
    "\n",
    "\n",
    "    alpha = 0.05\n",
    "    if p_value < alpha:\n",
    "        print(f\"Word: '{word}'\")\n",
    "        print(\"T-Test Statistic:\", statistic)\n",
    "        print(\"P-value:\", p_value)\n",
    "        print(f\"There is a significant difference in word '{word}' frequencies among languages.\\n\")\n",
    "        \n",
    "        "
   ]
  },
  {
   "cell_type": "code",
   "execution_count": null,
   "id": "cf6b1f6e",
   "metadata": {},
   "outputs": [],
   "source": []
  }
 ],
 "metadata": {
  "kernelspec": {
   "display_name": "Python 3 (ipykernel)",
   "language": "python",
   "name": "python3"
  },
  "language_info": {
   "codemirror_mode": {
    "name": "ipython",
    "version": 3
   },
   "file_extension": ".py",
   "mimetype": "text/x-python",
   "name": "python",
   "nbconvert_exporter": "python",
   "pygments_lexer": "ipython3",
   "version": "3.11.3"
  }
 },
 "nbformat": 4,
 "nbformat_minor": 5
}
