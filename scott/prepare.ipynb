{
 "cells": [
  {
   "cell_type": "code",
   "execution_count": 1,
   "id": "33ce3f83",
   "metadata": {},
   "outputs": [],
   "source": [
    "import pandas as pd\n",
    "import numpy as np\n",
    "from sklearn.model_selection import train_test_split"
   ]
  },
  {
   "cell_type": "markdown",
   "id": "94fb214a",
   "metadata": {},
   "source": [
    "## Split function"
   ]
  },
  {
   "cell_type": "code",
   "execution_count": 28,
   "id": "75091c3c",
   "metadata": {},
   "outputs": [],
   "source": [
    "###################### SPLIT READMES FUNCTION ###########################\n",
    "\n",
    "def split_readmes(df):\n",
    "    \"\"\"\n",
    "    Takes in a dataframe and performs a 70/15/15 split. Outputs a train, validate, and test dataframe\n",
    "    \"\"\"\n",
    "    # Perfrom a 70/15/15 split\n",
    "    train_val, test = train_test_split(df, test_size=.15)\n",
    "    train, validate = train_test_split(train_val, test_size=.17)\n",
    "    \n",
    "    return train, validate, test"
   ]
  },
  {
   "cell_type": "code",
   "execution_count": 29,
   "id": "b18d8fe4",
   "metadata": {},
   "outputs": [
    {
     "data": {
      "text/plain": [
       "(100, 4)"
      ]
     },
     "execution_count": 29,
     "metadata": {},
     "output_type": "execute_result"
    }
   ],
   "source": [
    "# Create a test dataframe\n",
    "data = {\n",
    "    'Name': [f'Person_{i}' for i in range(1, 101)],\n",
    "    'Age': np.random.randint(18, 65, size=100),\n",
    "    'City': np.random.choice(['New York', 'Los Angeles', 'Chicago', 'Houston', 'Miami'], size=100),\n",
    "    'Salary': np.random.randint(30000, 120000, size=100),\n",
    "}\n",
    "\n",
    "# Create the DataFrame\n",
    "df = pd.DataFrame(data)\n",
    "df.shape"
   ]
  },
  {
   "cell_type": "code",
   "execution_count": 30,
   "id": "c502a9bf",
   "metadata": {},
   "outputs": [
    {
     "name": "stdout",
     "output_type": "stream",
     "text": [
      "\n",
      "    (70, 4)\n",
      "    (15, 4)\n",
      "    (15, 4)\n",
      "    \n"
     ]
    }
   ],
   "source": [
    "train, validate, test = split_readmes(df)"
   ]
  },
  {
   "cell_type": "markdown",
   "id": "1f734579",
   "metadata": {},
   "source": [
    "## Clean function"
   ]
  },
  {
   "cell_type": "code",
   "execution_count": null,
   "id": "cccc638c",
   "metadata": {},
   "outputs": [],
   "source": []
  },
  {
   "cell_type": "code",
   "execution_count": null,
   "id": "3496f453",
   "metadata": {},
   "outputs": [],
   "source": [
    "###################### BASIC CLEAN FUNCTION ######################\n",
    "\n",
    "def basic_clean(string):\n",
    "    \"\"\"\n",
    "    This function puts a string in lowercase, normalizes any unicode characters,\n",
    "    Removes anything that isn't an alphanumeric symbol or single quote.\n",
    "    \"\"\"\n",
    "    # Normalize unicode characters\n",
    "    string = unicodedata.normalize('NFKD', string)\\\n",
    "    .encode('ascii', 'ignore')\\\n",
    "    .decode('utf-8', 'ignore')\n",
    "    \n",
    "    # Remove unwanted characters and put string in lowercase\n",
    "    string = re.sub(r\"[^\\w0-9'\\s]\", '', string).lower()\n",
    "            \n",
    "    return string"
   ]
  },
  {
   "cell_type": "markdown",
   "id": "665809c4",
   "metadata": {},
   "source": [
    "## Stem function"
   ]
  },
  {
   "cell_type": "code",
   "execution_count": null,
   "id": "0ab5e870",
   "metadata": {},
   "outputs": [],
   "source": []
  },
  {
   "cell_type": "markdown",
   "id": "d411620b",
   "metadata": {},
   "source": [
    "## Lemmatize function"
   ]
  },
  {
   "cell_type": "code",
   "execution_count": null,
   "id": "b01cd441",
   "metadata": {},
   "outputs": [],
   "source": []
  }
 ],
 "metadata": {
  "kernelspec": {
   "display_name": "Python 3 (ipykernel)",
   "language": "python",
   "name": "python3"
  },
  "language_info": {
   "codemirror_mode": {
    "name": "ipython",
    "version": 3
   },
   "file_extension": ".py",
   "mimetype": "text/x-python",
   "name": "python",
   "nbconvert_exporter": "python",
   "pygments_lexer": "ipython3",
   "version": "3.11.3"
  }
 },
 "nbformat": 4,
 "nbformat_minor": 5
}
