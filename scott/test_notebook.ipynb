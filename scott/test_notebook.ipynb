{
 "cells": [
  {
   "cell_type": "code",
   "execution_count": 1,
   "id": "7232ddcb",
   "metadata": {},
   "outputs": [],
   "source": [
    "import wrangle\n",
    "import acquire\n",
    "import env"
   ]
  },
  {
   "cell_type": "markdown",
   "id": "fbf64d43",
   "metadata": {},
   "source": [
    "## Bring in the data"
   ]
  },
  {
   "cell_type": "code",
   "execution_count": 3,
   "id": "ceed37d5",
   "metadata": {},
   "outputs": [],
   "source": [
    "python_df = acquire.get_github_python_data()"
   ]
  },
  {
   "cell_type": "code",
   "execution_count": 4,
   "id": "2c0686b0",
   "metadata": {},
   "outputs": [
    {
     "data": {
      "text/html": [
       "<div>\n",
       "<style scoped>\n",
       "    .dataframe tbody tr th:only-of-type {\n",
       "        vertical-align: middle;\n",
       "    }\n",
       "\n",
       "    .dataframe tbody tr th {\n",
       "        vertical-align: top;\n",
       "    }\n",
       "\n",
       "    .dataframe thead th {\n",
       "        text-align: right;\n",
       "    }\n",
       "</style>\n",
       "<table border=\"1\" class=\"dataframe\">\n",
       "  <thead>\n",
       "    <tr style=\"text-align: right;\">\n",
       "      <th></th>\n",
       "      <th>repo_name</th>\n",
       "      <th>url</th>\n",
       "      <th>language</th>\n",
       "      <th>readme_content</th>\n",
       "    </tr>\n",
       "  </thead>\n",
       "  <tbody>\n",
       "    <tr>\n",
       "      <th>0</th>\n",
       "      <td>jackfrued/Python-100-Days</td>\n",
       "      <td>https://github.com/jackfrued/Python-100-Days/b...</td>\n",
       "      <td>Python</td>\n",
       "      <td>Python - 100天从新手到大师作者：骆昊说明：从项目上线到获得8w+星标以来，一直收...</td>\n",
       "    </tr>\n",
       "    <tr>\n",
       "      <th>1</th>\n",
       "      <td>Significant-Gravitas/Auto-GPT</td>\n",
       "      <td>https://github.com/Significant-Gravitas/Auto-G...</td>\n",
       "      <td>Python</td>\n",
       "      <td>Auto-GPT: An Autonomous GPT-4 Experiment💡 Get ...</td>\n",
       "    </tr>\n",
       "    <tr>\n",
       "      <th>2</th>\n",
       "      <td>shadowsocks/shadowsocks</td>\n",
       "      <td>https://github.com/shadowsocks/shadowsocks/blo...</td>\n",
       "      <td>Python</td>\n",
       "      <td>Removed according to regulations.</td>\n",
       "    </tr>\n",
       "    <tr>\n",
       "      <th>3</th>\n",
       "      <td>pallets/flask</td>\n",
       "      <td>https://github.com/pallets/flask/blob/main/REA...</td>\n",
       "      <td>Python</td>\n",
       "      <td>FlaskFlask is a lightweight WSGI web applicati...</td>\n",
       "    </tr>\n",
       "    <tr>\n",
       "      <th>4</th>\n",
       "      <td>zero-to-mastery/start-here-guidelines</td>\n",
       "      <td>https://github.com/zero-to-mastery/start-here-...</td>\n",
       "      <td>Python</td>\n",
       "      <td>One rule of this community:We don't care if yo...</td>\n",
       "    </tr>\n",
       "  </tbody>\n",
       "</table>\n",
       "</div>"
      ],
      "text/plain": [
       "                               repo_name  \\\n",
       "0              jackfrued/Python-100-Days   \n",
       "1          Significant-Gravitas/Auto-GPT   \n",
       "2                shadowsocks/shadowsocks   \n",
       "3                          pallets/flask   \n",
       "4  zero-to-mastery/start-here-guidelines   \n",
       "\n",
       "                                                 url language  \\\n",
       "0  https://github.com/jackfrued/Python-100-Days/b...   Python   \n",
       "1  https://github.com/Significant-Gravitas/Auto-G...   Python   \n",
       "2  https://github.com/shadowsocks/shadowsocks/blo...   Python   \n",
       "3  https://github.com/pallets/flask/blob/main/REA...   Python   \n",
       "4  https://github.com/zero-to-mastery/start-here-...   Python   \n",
       "\n",
       "                                      readme_content  \n",
       "0  Python - 100天从新手到大师作者：骆昊说明：从项目上线到获得8w+星标以来，一直收...  \n",
       "1  Auto-GPT: An Autonomous GPT-4 Experiment💡 Get ...  \n",
       "2                  Removed according to regulations.  \n",
       "3  FlaskFlask is a lightweight WSGI web applicati...  \n",
       "4  One rule of this community:We don't care if yo...  "
      ]
     },
     "execution_count": 4,
     "metadata": {},
     "output_type": "execute_result"
    }
   ],
   "source": [
    "python_df.head()"
   ]
  },
  {
   "cell_type": "code",
   "execution_count": 6,
   "id": "680a4b16",
   "metadata": {},
   "outputs": [
    {
     "data": {
      "text/plain": [
       "str"
      ]
     },
     "execution_count": 6,
     "metadata": {},
     "output_type": "execute_result"
    }
   ],
   "source": [
    "type(python_df.readme_content[3])"
   ]
  },
  {
   "cell_type": "code",
   "execution_count": 6,
   "id": "1e380c04",
   "metadata": {},
   "outputs": [],
   "source": [
    "javascript_df = acquire.get_github_java_script_data()"
   ]
  },
  {
   "cell_type": "code",
   "execution_count": 7,
   "id": "1b30aaf5",
   "metadata": {},
   "outputs": [
    {
     "data": {
      "text/html": [
       "<div>\n",
       "<style scoped>\n",
       "    .dataframe tbody tr th:only-of-type {\n",
       "        vertical-align: middle;\n",
       "    }\n",
       "\n",
       "    .dataframe tbody tr th {\n",
       "        vertical-align: top;\n",
       "    }\n",
       "\n",
       "    .dataframe thead th {\n",
       "        text-align: right;\n",
       "    }\n",
       "</style>\n",
       "<table border=\"1\" class=\"dataframe\">\n",
       "  <thead>\n",
       "    <tr style=\"text-align: right;\">\n",
       "      <th></th>\n",
       "      <th>repo_name</th>\n",
       "      <th>url</th>\n",
       "      <th>language</th>\n",
       "      <th>readme_content</th>\n",
       "    </tr>\n",
       "  </thead>\n",
       "  <tbody>\n",
       "    <tr>\n",
       "      <th>0</th>\n",
       "      <td>mrdoob/three.js</td>\n",
       "      <td>https://github.com/mrdoob/three.js/blob/dev/RE...</td>\n",
       "      <td>JavaScript</td>\n",
       "      <td>three.jsJavaScript 3D libraryThe aim of the pr...</td>\n",
       "    </tr>\n",
       "    <tr>\n",
       "      <th>1</th>\n",
       "      <td>academicpages/academicpages.github.io</td>\n",
       "      <td>https://github.com/academicpages/academicpages...</td>\n",
       "      <td>JavaScript</td>\n",
       "      <td>A Github Pages template for academic websites....</td>\n",
       "    </tr>\n",
       "    <tr>\n",
       "      <th>2</th>\n",
       "      <td>angular/angular.js</td>\n",
       "      <td>https://github.com/angular/angular.js/blob/mas...</td>\n",
       "      <td>JavaScript</td>\n",
       "      <td>Using AngularJS with the Closure CompilerThe C...</td>\n",
       "    </tr>\n",
       "    <tr>\n",
       "      <th>3</th>\n",
       "      <td>nodejs/node</td>\n",
       "      <td>https://github.com/nodejs/node/blob/main/READM...</td>\n",
       "      <td>JavaScript</td>\n",
       "      <td>Node.jsNode.js is an open-source, cross-platfo...</td>\n",
       "    </tr>\n",
       "    <tr>\n",
       "      <th>4</th>\n",
       "      <td>udacity/frontend-nanodegree-resume</td>\n",
       "      <td>https://github.com/udacity/frontend-nanodegree...</td>\n",
       "      <td>JavaScript</td>\n",
       "      <td>Project DetailsHow do I complete this project?...</td>\n",
       "    </tr>\n",
       "  </tbody>\n",
       "</table>\n",
       "</div>"
      ],
      "text/plain": [
       "                               repo_name  \\\n",
       "0                        mrdoob/three.js   \n",
       "1  academicpages/academicpages.github.io   \n",
       "2                     angular/angular.js   \n",
       "3                            nodejs/node   \n",
       "4     udacity/frontend-nanodegree-resume   \n",
       "\n",
       "                                                 url    language  \\\n",
       "0  https://github.com/mrdoob/three.js/blob/dev/RE...  JavaScript   \n",
       "1  https://github.com/academicpages/academicpages...  JavaScript   \n",
       "2  https://github.com/angular/angular.js/blob/mas...  JavaScript   \n",
       "3  https://github.com/nodejs/node/blob/main/READM...  JavaScript   \n",
       "4  https://github.com/udacity/frontend-nanodegree...  JavaScript   \n",
       "\n",
       "                                      readme_content  \n",
       "0  three.jsJavaScript 3D libraryThe aim of the pr...  \n",
       "1  A Github Pages template for academic websites....  \n",
       "2  Using AngularJS with the Closure CompilerThe C...  \n",
       "3  Node.jsNode.js is an open-source, cross-platfo...  \n",
       "4  Project DetailsHow do I complete this project?...  "
      ]
     },
     "execution_count": 7,
     "metadata": {},
     "output_type": "execute_result"
    }
   ],
   "source": [
    "javascript_df.head()"
   ]
  },
  {
   "cell_type": "markdown",
   "id": "488e4c8f",
   "metadata": {},
   "source": [
    "## Test the prepare function"
   ]
  },
  {
   "cell_type": "code",
   "execution_count": 2,
   "id": "25ba5039",
   "metadata": {},
   "outputs": [
    {
     "ename": "JSONDecodeError",
     "evalue": "Expecting value: line 1 column 1 (char 0)",
     "output_type": "error",
     "traceback": [
      "\u001b[0;31m---------------------------------------------------------------------------\u001b[0m",
      "\u001b[0;31mJSONDecodeError\u001b[0m                           Traceback (most recent call last)",
      "File \u001b[0;32m~/anaconda3/lib/python3.11/site-packages/requests/models.py:971\u001b[0m, in \u001b[0;36mResponse.json\u001b[0;34m(self, **kwargs)\u001b[0m\n\u001b[1;32m    970\u001b[0m \u001b[38;5;28;01mtry\u001b[39;00m:\n\u001b[0;32m--> 971\u001b[0m     \u001b[38;5;28;01mreturn\u001b[39;00m complexjson\u001b[38;5;241m.\u001b[39mloads(\u001b[38;5;28mself\u001b[39m\u001b[38;5;241m.\u001b[39mtext, \u001b[38;5;241m*\u001b[39m\u001b[38;5;241m*\u001b[39mkwargs)\n\u001b[1;32m    972\u001b[0m \u001b[38;5;28;01mexcept\u001b[39;00m JSONDecodeError \u001b[38;5;28;01mas\u001b[39;00m e:\n\u001b[1;32m    973\u001b[0m     \u001b[38;5;66;03m# Catch JSON-related errors and raise as requests.JSONDecodeError\u001b[39;00m\n\u001b[1;32m    974\u001b[0m     \u001b[38;5;66;03m# This aliases json.JSONDecodeError and simplejson.JSONDecodeError\u001b[39;00m\n",
      "File \u001b[0;32m~/anaconda3/lib/python3.11/json/__init__.py:346\u001b[0m, in \u001b[0;36mloads\u001b[0;34m(s, cls, object_hook, parse_float, parse_int, parse_constant, object_pairs_hook, **kw)\u001b[0m\n\u001b[1;32m    343\u001b[0m \u001b[38;5;28;01mif\u001b[39;00m (\u001b[38;5;28mcls\u001b[39m \u001b[38;5;129;01mis\u001b[39;00m \u001b[38;5;28;01mNone\u001b[39;00m \u001b[38;5;129;01mand\u001b[39;00m object_hook \u001b[38;5;129;01mis\u001b[39;00m \u001b[38;5;28;01mNone\u001b[39;00m \u001b[38;5;129;01mand\u001b[39;00m\n\u001b[1;32m    344\u001b[0m         parse_int \u001b[38;5;129;01mis\u001b[39;00m \u001b[38;5;28;01mNone\u001b[39;00m \u001b[38;5;129;01mand\u001b[39;00m parse_float \u001b[38;5;129;01mis\u001b[39;00m \u001b[38;5;28;01mNone\u001b[39;00m \u001b[38;5;129;01mand\u001b[39;00m\n\u001b[1;32m    345\u001b[0m         parse_constant \u001b[38;5;129;01mis\u001b[39;00m \u001b[38;5;28;01mNone\u001b[39;00m \u001b[38;5;129;01mand\u001b[39;00m object_pairs_hook \u001b[38;5;129;01mis\u001b[39;00m \u001b[38;5;28;01mNone\u001b[39;00m \u001b[38;5;129;01mand\u001b[39;00m \u001b[38;5;129;01mnot\u001b[39;00m kw):\n\u001b[0;32m--> 346\u001b[0m     \u001b[38;5;28;01mreturn\u001b[39;00m _default_decoder\u001b[38;5;241m.\u001b[39mdecode(s)\n\u001b[1;32m    347\u001b[0m \u001b[38;5;28;01mif\u001b[39;00m \u001b[38;5;28mcls\u001b[39m \u001b[38;5;129;01mis\u001b[39;00m \u001b[38;5;28;01mNone\u001b[39;00m:\n",
      "File \u001b[0;32m~/anaconda3/lib/python3.11/json/decoder.py:337\u001b[0m, in \u001b[0;36mJSONDecoder.decode\u001b[0;34m(self, s, _w)\u001b[0m\n\u001b[1;32m    333\u001b[0m \u001b[38;5;250m\u001b[39m\u001b[38;5;124;03m\"\"\"Return the Python representation of ``s`` (a ``str`` instance\u001b[39;00m\n\u001b[1;32m    334\u001b[0m \u001b[38;5;124;03mcontaining a JSON document).\u001b[39;00m\n\u001b[1;32m    335\u001b[0m \n\u001b[1;32m    336\u001b[0m \u001b[38;5;124;03m\"\"\"\u001b[39;00m\n\u001b[0;32m--> 337\u001b[0m obj, end \u001b[38;5;241m=\u001b[39m \u001b[38;5;28mself\u001b[39m\u001b[38;5;241m.\u001b[39mraw_decode(s, idx\u001b[38;5;241m=\u001b[39m_w(s, \u001b[38;5;241m0\u001b[39m)\u001b[38;5;241m.\u001b[39mend())\n\u001b[1;32m    338\u001b[0m end \u001b[38;5;241m=\u001b[39m _w(s, end)\u001b[38;5;241m.\u001b[39mend()\n",
      "File \u001b[0;32m~/anaconda3/lib/python3.11/json/decoder.py:355\u001b[0m, in \u001b[0;36mJSONDecoder.raw_decode\u001b[0;34m(self, s, idx)\u001b[0m\n\u001b[1;32m    354\u001b[0m \u001b[38;5;28;01mexcept\u001b[39;00m \u001b[38;5;167;01mStopIteration\u001b[39;00m \u001b[38;5;28;01mas\u001b[39;00m err:\n\u001b[0;32m--> 355\u001b[0m     \u001b[38;5;28;01mraise\u001b[39;00m JSONDecodeError(\u001b[38;5;124m\"\u001b[39m\u001b[38;5;124mExpecting value\u001b[39m\u001b[38;5;124m\"\u001b[39m, s, err\u001b[38;5;241m.\u001b[39mvalue) \u001b[38;5;28;01mfrom\u001b[39;00m \u001b[38;5;28;01mNone\u001b[39;00m\n\u001b[1;32m    356\u001b[0m \u001b[38;5;28;01mreturn\u001b[39;00m obj, end\n",
      "\u001b[0;31mJSONDecodeError\u001b[0m: Expecting value: line 1 column 1 (char 0)",
      "\nDuring handling of the above exception, another exception occurred:\n",
      "\u001b[0;31mJSONDecodeError\u001b[0m                           Traceback (most recent call last)",
      "Cell \u001b[0;32mIn[2], line 1\u001b[0m\n\u001b[0;32m----> 1\u001b[0m train, validate, test \u001b[38;5;241m=\u001b[39m wrangle\u001b[38;5;241m.\u001b[39mwrangle_readmes()\n",
      "File \u001b[0;32m~/codeup-data-science/natural-language-processing-exercises/nlp-project/scott/wrangle.py:435\u001b[0m, in \u001b[0;36mwrangle_readmes\u001b[0;34m()\u001b[0m\n\u001b[1;32m    434\u001b[0m \u001b[38;5;28;01mdef\u001b[39;00m \u001b[38;5;21mwrangle_readmes\u001b[39m():\n\u001b[0;32m--> 435\u001b[0m     train, validate, test \u001b[38;5;241m=\u001b[39m prep_readmes(acquire_readmes(), \u001b[38;5;124m'\u001b[39m\u001b[38;5;124moriginal\u001b[39m\u001b[38;5;124m'\u001b[39m)\n\u001b[1;32m    436\u001b[0m     \u001b[38;5;28;01mreturn\u001b[39;00m train, validate, test\n",
      "File \u001b[0;32m~/codeup-data-science/natural-language-processing-exercises/nlp-project/scott/wrangle.py:400\u001b[0m, in \u001b[0;36macquire_readmes\u001b[0;34m()\u001b[0m\n\u001b[1;32m    397\u001b[0m     df \u001b[38;5;241m=\u001b[39m pd\u001b[38;5;241m.\u001b[39mread_csv(\u001b[38;5;124m'\u001b[39m\u001b[38;5;124mpython_data.csv\u001b[39m\u001b[38;5;124m'\u001b[39m)\n\u001b[1;32m    399\u001b[0m \u001b[38;5;28;01melse\u001b[39;00m:\n\u001b[0;32m--> 400\u001b[0m     python_df \u001b[38;5;241m=\u001b[39m get_github_python_data()\n\u001b[1;32m    401\u001b[0m     python_df \u001b[38;5;241m=\u001b[39m python_df\u001b[38;5;241m.\u001b[39mrename(columns\u001b[38;5;241m=\u001b[39m{\u001b[38;5;124m'\u001b[39m\u001b[38;5;124mreadme_content\u001b[39m\u001b[38;5;124m'\u001b[39m:\u001b[38;5;124m'\u001b[39m\u001b[38;5;124moriginal\u001b[39m\u001b[38;5;124m'\u001b[39m})\n\u001b[1;32m    402\u001b[0m     javascript_df \u001b[38;5;241m=\u001b[39m get_github_java_script_data()\n",
      "File \u001b[0;32m~/codeup-data-science/natural-language-processing-exercises/nlp-project/scott/wrangle.py:275\u001b[0m, in \u001b[0;36mget_github_python_data\u001b[0;34m()\u001b[0m\n\u001b[1;32m    272\u001b[0m     python_url\u001b[38;5;241m=\u001b[39m \u001b[38;5;124mf\u001b[39m\u001b[38;5;124m'\u001b[39m\u001b[38;5;124mhttps://github.com/search?o=desc&q=stars%3A%3E1+language%3APython&s=forks&type=Repositories&p=1&l=python=\u001b[39m\u001b[38;5;132;01m{\u001b[39;00mi\u001b[38;5;132;01m}\u001b[39;00m\u001b[38;5;124m'\u001b[39m\n\u001b[1;32m    274\u001b[0m     \u001b[38;5;66;03m# get json rescponce\u001b[39;00m\n\u001b[0;32m--> 275\u001b[0m     res \u001b[38;5;241m=\u001b[39m github_api_request(python_url)\n\u001b[1;32m    276\u001b[0m     temp_name \u001b[38;5;241m=\u001b[39m [REPO_NAME\u001b[38;5;241m.\u001b[39mappend(x[\u001b[38;5;124m'\u001b[39m\u001b[38;5;124mhl_name\u001b[39m\u001b[38;5;124m'\u001b[39m]) \u001b[38;5;28;01mfor\u001b[39;00m x \u001b[38;5;129;01min\u001b[39;00m res[\u001b[38;5;124m'\u001b[39m\u001b[38;5;124mpayload\u001b[39m\u001b[38;5;124m'\u001b[39m][\u001b[38;5;124m'\u001b[39m\u001b[38;5;124mresults\u001b[39m\u001b[38;5;124m'\u001b[39m]]\n\u001b[1;32m    278\u001b[0m repo_names \u001b[38;5;241m=\u001b[39m []\n",
      "File \u001b[0;32m~/codeup-data-science/natural-language-processing-exercises/nlp-project/scott/wrangle.py:199\u001b[0m, in \u001b[0;36mgithub_api_request\u001b[0;34m(url)\u001b[0m\n\u001b[1;32m    197\u001b[0m \u001b[38;5;28;01mdef\u001b[39;00m \u001b[38;5;21mgithub_api_request\u001b[39m(url: \u001b[38;5;28mstr\u001b[39m) \u001b[38;5;241m-\u001b[39m\u001b[38;5;241m>\u001b[39m Union[List, Dict]:\n\u001b[1;32m    198\u001b[0m     response \u001b[38;5;241m=\u001b[39m requests\u001b[38;5;241m.\u001b[39mget(url, headers\u001b[38;5;241m=\u001b[39mheaders)\n\u001b[0;32m--> 199\u001b[0m     response_data \u001b[38;5;241m=\u001b[39m response\u001b[38;5;241m.\u001b[39mjson()\n\u001b[1;32m    200\u001b[0m     \u001b[38;5;28;01mif\u001b[39;00m response\u001b[38;5;241m.\u001b[39mstatus_code \u001b[38;5;241m!=\u001b[39m \u001b[38;5;241m200\u001b[39m:\n\u001b[1;32m    201\u001b[0m         \u001b[38;5;28;01mraise\u001b[39;00m \u001b[38;5;167;01mException\u001b[39;00m(\n\u001b[1;32m    202\u001b[0m             \u001b[38;5;124mf\u001b[39m\u001b[38;5;124m\"\u001b[39m\u001b[38;5;124mError response from github api! status code: \u001b[39m\u001b[38;5;132;01m{\u001b[39;00mresponse\u001b[38;5;241m.\u001b[39mstatus_code\u001b[38;5;132;01m}\u001b[39;00m\u001b[38;5;124m, \u001b[39m\u001b[38;5;124m\"\u001b[39m\n\u001b[1;32m    203\u001b[0m             \u001b[38;5;124mf\u001b[39m\u001b[38;5;124m\"\u001b[39m\u001b[38;5;124mresponse: \u001b[39m\u001b[38;5;132;01m{\u001b[39;00mjson\u001b[38;5;241m.\u001b[39mdumps(response_data)\u001b[38;5;132;01m}\u001b[39;00m\u001b[38;5;124m\"\u001b[39m\n\u001b[1;32m    204\u001b[0m         )\n",
      "File \u001b[0;32m~/anaconda3/lib/python3.11/site-packages/requests/models.py:975\u001b[0m, in \u001b[0;36mResponse.json\u001b[0;34m(self, **kwargs)\u001b[0m\n\u001b[1;32m    971\u001b[0m     \u001b[38;5;28;01mreturn\u001b[39;00m complexjson\u001b[38;5;241m.\u001b[39mloads(\u001b[38;5;28mself\u001b[39m\u001b[38;5;241m.\u001b[39mtext, \u001b[38;5;241m*\u001b[39m\u001b[38;5;241m*\u001b[39mkwargs)\n\u001b[1;32m    972\u001b[0m \u001b[38;5;28;01mexcept\u001b[39;00m JSONDecodeError \u001b[38;5;28;01mas\u001b[39;00m e:\n\u001b[1;32m    973\u001b[0m     \u001b[38;5;66;03m# Catch JSON-related errors and raise as requests.JSONDecodeError\u001b[39;00m\n\u001b[1;32m    974\u001b[0m     \u001b[38;5;66;03m# This aliases json.JSONDecodeError and simplejson.JSONDecodeError\u001b[39;00m\n\u001b[0;32m--> 975\u001b[0m     \u001b[38;5;28;01mraise\u001b[39;00m RequestsJSONDecodeError(e\u001b[38;5;241m.\u001b[39mmsg, e\u001b[38;5;241m.\u001b[39mdoc, e\u001b[38;5;241m.\u001b[39mpos)\n",
      "\u001b[0;31mJSONDecodeError\u001b[0m: Expecting value: line 1 column 1 (char 0)"
     ]
    }
   ],
   "source": [
    "train, validate, test = wrangle.wrangle_readmes()"
   ]
  },
  {
   "cell_type": "code",
   "execution_count": null,
   "id": "2f3d8922",
   "metadata": {},
   "outputs": [],
   "source": [
    "def clean(string):\n",
    "    \"\"\"\n",
    "    This function puts a string in lowercase, normalizes any unicode characters, removes anything that         \n",
    "    isn't an alphanumeric symbol or single quote.\n",
    "    \"\"\"\n",
    "    # Normalize unicode characters\n",
    "    string = unicodedata.normalize('NFKD', string)\\\n",
    "    .encode('ascii', 'ignore')\\\n",
    "    .decode('utf-8', 'ignore')\n",
    "    \n",
    "    # Remove unwanted characters and put string in lowercase\n",
    "    string = re.sub(r\"[^\\w0-9'\\s]\", '', string).lower()\n",
    "            \n",
    "    return string"
   ]
  }
 ],
 "metadata": {
  "kernelspec": {
   "display_name": "Python 3 (ipykernel)",
   "language": "python",
   "name": "python3"
  },
  "language_info": {
   "codemirror_mode": {
    "name": "ipython",
    "version": 3
   },
   "file_extension": ".py",
   "mimetype": "text/x-python",
   "name": "python",
   "nbconvert_exporter": "python",
   "pygments_lexer": "ipython3",
   "version": "3.11.3"
  }
 },
 "nbformat": 4,
 "nbformat_minor": 5
}
