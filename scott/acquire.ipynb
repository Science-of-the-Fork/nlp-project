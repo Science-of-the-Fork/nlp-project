{
 "cells": [
  {
   "cell_type": "markdown",
   "id": "33610b2f-2fcb-49c3-bff2-fc99c7eb03a0",
   "metadata": {},
   "source": [
    "# Acquire"
   ]
  },
  {
   "cell_type": "code",
   "execution_count": 1,
   "id": "a8957777-e219-46ab-9486-251eb2883fce",
   "metadata": {},
   "outputs": [
    {
     "ename": "ModuleNotFoundError",
     "evalue": "No module named 'env'",
     "output_type": "error",
     "traceback": [
      "\u001b[0;31m---------------------------------------------------------------------------\u001b[0m",
      "\u001b[0;31mModuleNotFoundError\u001b[0m                       Traceback (most recent call last)",
      "Cell \u001b[0;32mIn[1], line 13\u001b[0m\n\u001b[1;32m     11\u001b[0m \u001b[38;5;28;01mimport\u001b[39;00m \u001b[38;5;21;01msys\u001b[39;00m\n\u001b[1;32m     12\u001b[0m sys\u001b[38;5;241m.\u001b[39mpath\u001b[38;5;241m.\u001b[39mappend(\u001b[38;5;124m\"\u001b[39m\u001b[38;5;124m..\u001b[39m\u001b[38;5;124m\"\u001b[39m)\n\u001b[0;32m---> 13\u001b[0m \u001b[38;5;28;01mimport\u001b[39;00m \u001b[38;5;21;01macquire\u001b[39;00m\n\u001b[1;32m     14\u001b[0m \u001b[38;5;28;01mfrom\u001b[39;00m \u001b[38;5;21;01menv\u001b[39;00m \u001b[38;5;28;01mimport\u001b[39;00m github_token, github_username\n",
      "File \u001b[0;32m~/codeup-data-science/natural-language-processing-exercises/nlp-project/scott/../acquire.py:19\u001b[0m\n\u001b[1;32m     16\u001b[0m \u001b[38;5;28;01mfrom\u001b[39;00m \u001b[38;5;21;01mtyping\u001b[39;00m \u001b[38;5;28;01mimport\u001b[39;00m Dict, List, Optional, Union, cast\n\u001b[1;32m     17\u001b[0m \u001b[38;5;28;01mimport\u001b[39;00m \u001b[38;5;21;01mrequests\u001b[39;00m\n\u001b[0;32m---> 19\u001b[0m \u001b[38;5;28;01mfrom\u001b[39;00m \u001b[38;5;21;01menv\u001b[39;00m \u001b[38;5;28;01mimport\u001b[39;00m github_token, github_username\n\u001b[1;32m     21\u001b[0m \u001b[38;5;66;03m# TODO: Make a github personal access token.\u001b[39;00m\n\u001b[1;32m     22\u001b[0m \u001b[38;5;66;03m#     1. Go here and generate a personal access token https://github.com/settings/tokens\u001b[39;00m\n\u001b[1;32m     23\u001b[0m \u001b[38;5;66;03m#        You do _not_ need select any scopes, i.e. leave all the checkboxes unchecked\u001b[39;00m\n\u001b[1;32m     24\u001b[0m \u001b[38;5;66;03m#     2. Save it in your env.py file under the variable `github_token`\u001b[39;00m\n\u001b[1;32m     25\u001b[0m \u001b[38;5;66;03m# TODO: Add your github username to your env.py file under the variable `github_username`\u001b[39;00m\n\u001b[1;32m     26\u001b[0m \u001b[38;5;66;03m# TODO: Add more repositories to the `REPOS` list below.\u001b[39;00m\n\u001b[1;32m     28\u001b[0m REPOS \u001b[38;5;241m=\u001b[39m []\n",
      "\u001b[0;31mModuleNotFoundError\u001b[0m: No module named 'env'"
     ]
    }
   ],
   "source": [
    "import os\n",
    "import requests\n",
    "from bs4 import BeautifulSoup\n",
    "import pandas as pd\n",
    "import os\n",
    "import json\n",
    "from typing import Dict, List, Optional, Union, cast\n",
    "import requests\n",
    "from pprint import pprint\n",
    "\n",
    "import sys\n",
    "sys.path.append(\"..\")\n",
    "import acquire\n",
    "from env import github_token, github_username"
   ]
  },
  {
   "cell_type": "code",
   "execution_count": null,
   "id": "b07a4f95-47a6-4a1c-a615-571c4f0c1da9",
   "metadata": {},
   "outputs": [],
   "source": [
    "# Set up header authentication for github\n",
    "headers = {\"Authorization\": f\"token {github_token}\", \"User-Agent\": github_username}\n"
   ]
  },
  {
   "cell_type": "markdown",
   "id": "6793d64d-e601-4480-8476-e8036a1ad7fc",
   "metadata": {},
   "source": [
    "**Get data**"
   ]
  },
  {
   "cell_type": "code",
   "execution_count": 11,
   "id": "3bc53fed-a474-4ba8-a574-884d8f03c922",
   "metadata": {},
   "outputs": [],
   "source": [
    "python_url = \"https://github.com/search?q=stars%3A%3E1+language%3APython&type=repositories&l=Python\""
   ]
  },
  {
   "cell_type": "code",
   "execution_count": null,
   "id": "6f738b3c-3adf-4b5c-b90e-ab0f78608a3f",
   "metadata": {},
   "outputs": [],
   "source": []
  },
  {
   "cell_type": "code",
   "execution_count": 15,
   "id": "20e20b12-fb89-465f-bd3d-11595259d523",
   "metadata": {},
   "outputs": [
    {
     "data": {
      "text/plain": [
       "'Python'"
      ]
     },
     "execution_count": 15,
     "metadata": {},
     "output_type": "execute_result"
    }
   ],
   "source": [
    "acquire.get_repo_language(\"public-apis/public-apis\")"
   ]
  },
  {
   "cell_type": "code",
   "execution_count": 17,
   "id": "9e05fadc-779b-4d56-bc95-e0df0741d539",
   "metadata": {},
   "outputs": [],
   "source": [
    "# acquire.get_repo_contents(\"public-apis/public-apis\")"
   ]
  },
  {
   "cell_type": "code",
   "execution_count": null,
   "id": "15122337-7e03-4fd3-b852-443ab7e2c73c",
   "metadata": {},
   "outputs": [],
   "source": [
    "# acquire.get_readme_download_url"
   ]
  },
  {
   "cell_type": "code",
   "execution_count": 22,
   "id": "2863d0c2-489d-47ab-91cd-eb2636d5ecd2",
   "metadata": {},
   "outputs": [],
   "source": [
    "# lst = acquire.github_api_request(python_url)"
   ]
  },
  {
   "cell_type": "code",
   "execution_count": 23,
   "id": "0f84d51e-4866-4704-8950-88509e86b78d",
   "metadata": {},
   "outputs": [
    {
     "data": {
      "text/plain": [
       "2"
      ]
     },
     "execution_count": 23,
     "metadata": {},
     "output_type": "execute_result"
    }
   ],
   "source": [
    "len(lst)"
   ]
  },
  {
   "cell_type": "code",
   "execution_count": 21,
   "id": "2803478a-2ff6-4aa1-ba8a-27cc15323780",
   "metadata": {},
   "outputs": [
    {
     "ename": "TypeError",
     "evalue": "string indices must be integers",
     "output_type": "error",
     "traceback": [
      "\u001b[0;31m---------------------------------------------------------------------------\u001b[0m",
      "\u001b[0;31mTypeError\u001b[0m                                 Traceback (most recent call last)",
      "Cell \u001b[0;32mIn[21], line 1\u001b[0m\n\u001b[0;32m----> 1\u001b[0m \u001b[43macquire\u001b[49m\u001b[38;5;241;43m.\u001b[39;49m\u001b[43mget_readme_download_url\u001b[49m\u001b[43m(\u001b[49m\u001b[43macquire\u001b[49m\u001b[38;5;241;43m.\u001b[39;49m\u001b[43mgithub_api_request\u001b[49m\u001b[43m(\u001b[49m\u001b[43mpython_url\u001b[49m\u001b[43m)\u001b[49m\u001b[43m)\u001b[49m\n",
      "File \u001b[0;32m~/CodeUp/Data_Science/nlp-project/Victoire/../acquire.py:78\u001b[0m, in \u001b[0;36mget_readme_download_url\u001b[0;34m(files)\u001b[0m\n\u001b[1;32m     73\u001b[0m \u001b[38;5;124;03m\"\"\"\u001b[39;00m\n\u001b[1;32m     74\u001b[0m \u001b[38;5;124;03mTakes in a response from the github api that lists the files in a repo and\u001b[39;00m\n\u001b[1;32m     75\u001b[0m \u001b[38;5;124;03mreturns the url that can be used to download the repo's README file.\u001b[39;00m\n\u001b[1;32m     76\u001b[0m \u001b[38;5;124;03m\"\"\"\u001b[39;00m\n\u001b[1;32m     77\u001b[0m \u001b[38;5;28;01mfor\u001b[39;00m file \u001b[38;5;129;01min\u001b[39;00m files:\n\u001b[0;32m---> 78\u001b[0m     \u001b[38;5;28;01mif\u001b[39;00m \u001b[43mfile\u001b[49m\u001b[43m[\u001b[49m\u001b[38;5;124;43m\"\u001b[39;49m\u001b[38;5;124;43mname\u001b[39;49m\u001b[38;5;124;43m\"\u001b[39;49m\u001b[43m]\u001b[49m\u001b[38;5;241m.\u001b[39mlower()\u001b[38;5;241m.\u001b[39mstartswith(\u001b[38;5;124m\"\u001b[39m\u001b[38;5;124mreadme\u001b[39m\u001b[38;5;124m\"\u001b[39m):\n\u001b[1;32m     79\u001b[0m         \u001b[38;5;28;01mreturn\u001b[39;00m file[\u001b[38;5;124m\"\u001b[39m\u001b[38;5;124mdownload_url\u001b[39m\u001b[38;5;124m\"\u001b[39m]\n\u001b[1;32m     80\u001b[0m \u001b[38;5;28;01mreturn\u001b[39;00m \u001b[38;5;124m\"\u001b[39m\u001b[38;5;124m\"\u001b[39m\n",
      "\u001b[0;31mTypeError\u001b[0m: string indices must be integers"
     ]
    }
   ],
   "source": [
    "acquire.get_readme_download_url()"
   ]
  },
  {
   "cell_type": "code",
   "execution_count": null,
   "id": "dd7f750e-b0e2-4ca9-b617-7491c9cae797",
   "metadata": {},
   "outputs": [],
   "source": []
  },
  {
   "cell_type": "code",
   "execution_count": 24,
   "id": "883b1dfe-5b96-470b-8a18-d4b7a8c4b961",
   "metadata": {},
   "outputs": [],
   "source": [
    "# acquire.process_repo(\"gocodeup/codeup-setup-script\")"
   ]
  },
  {
   "cell_type": "markdown",
   "id": "87157984-6ab1-468e-a36a-406e7b046f5f",
   "metadata": {},
   "source": [
    "_______________________"
   ]
  },
  {
   "cell_type": "code",
   "execution_count": null,
   "id": "b3186210-90e7-461a-bacb-4a7787e682f7",
   "metadata": {},
   "outputs": [],
   "source": [
    "# read the url\n",
    "res = get(\"https://codeup.edu/blog/\", headers=headers)\n",
    "# create a beautiful soup object\n",
    "soup_parser = BeautifulSoup(res.content, 'html.parser').body\n",
    "soup_id = soup_parser.find(\"div\", id=\"et-boc\")\n"
   ]
  },
  {
   "cell_type": "code",
   "execution_count": 31,
   "id": "9e16c921-083c-428b-87cd-ee09f270dbfc",
   "metadata": {},
   "outputs": [],
   "source": [
    "python_url = \"https://github.com/search?q=stars%3A%3E1+language%3APython&type=repositories&l=Python\"\n",
    "\n",
    "# get data json\n",
    "responce = acquire.github_api_request(python_url)\n",
    "soup = BeautifulSoup()"
   ]
  },
  {
   "cell_type": "code",
   "execution_count": null,
   "id": "2eab5e3a-07ae-422d-966a-70b2db433fdc",
   "metadata": {},
   "outputs": [],
   "source": [
    "Box-sc-g0xbh4-0 bItZsX"
   ]
  },
  {
   "cell_type": "code",
   "execution_count": 32,
   "id": "21d00f3e-1c28-48e0-b858-dc3ed452a70d",
   "metadata": {},
   "outputs": [
    {
     "data": {
      "text/plain": [
       "{'payload': {'header_redesign_enabled': False,\n",
       "  'results': [{'id': '71220757',\n",
       "    'archived': False,\n",
       "    'color': '#3572A5',\n",
       "    'followers': 49909,\n",
       "    'has_funding_file': True,\n",
       "    'hl_name': 'swisskyrepo/PayloadsAllTheThings',\n",
       "    'hl_trunc_description': 'A list of useful payloads and bypass for Web Application Security and Pentest/CTF',\n",
       "    'language': 'Python',\n",
       "    'mirror': False,\n",
       "    'owned_by_organization': False,\n",
       "    'public': True,\n",
       "    'repo': {'repository': {'id': 71220757,\n",
       "      'name': 'PayloadsAllTheThings',\n",
       "      'owner_id': 12152583,\n",
       "      'owner_login': 'swisskyrepo',\n",
       "      'updated_at': '2023-08-08T08:43:54.528Z',\n",
       "      'has_issues': False}},\n",
       "    'sponsorable': True,\n",
       "    'topics': ['security',\n",
       "     'hacking',\n",
       "     'web-application',\n",
       "     'cheatsheet',\n",
       "     'enumeration',\n",
       "     'penetration-testing',\n",
       "     'bounty',\n",
       "     'vulnerability',\n",
       "     'methodology',\n",
       "     'bugbounty',\n",
       "     'pentest',\n",
       "     'bypass',\n",
       "     'payload',\n",
       "     'payloads',\n",
       "     'hacktoberfest',\n",
       "     'privilege-escalation',\n",
       "     'redteam'],\n",
       "    'type': 'Public',\n",
       "    'help_wanted_issues_count': 0,\n",
       "    'good_first_issue_issues_count': 0,\n",
       "    'starred_by_current_user': False},\n",
       "   {'id': '83844720',\n",
       "    'archived': False,\n",
       "    'color': '#3572A5',\n",
       "    'followers': 49051,\n",
       "    'has_funding_file': False,\n",
       "    'hl_name': 'ageitgey/face_recognition',\n",
       "    'hl_trunc_description': \"The world's simplest facial recognition api for Python and the command line\",\n",
       "    'language': 'Python',\n",
       "    'mirror': False,\n",
       "    'owned_by_organization': False,\n",
       "    'public': True,\n",
       "    'repo': {'repository': {'id': 83844720,\n",
       "      'name': 'face_recognition',\n",
       "      'owner_id': 896692,\n",
       "      'owner_login': 'ageitgey',\n",
       "      'updated_at': '2023-08-11T10:58:35.603Z',\n",
       "      'has_issues': True}},\n",
       "    'sponsorable': False,\n",
       "    'topics': ['python',\n",
       "     'machine-learning',\n",
       "     'face-recognition',\n",
       "     'face-detection'],\n",
       "    'type': 'Public',\n",
       "    'help_wanted_issues_count': 0,\n",
       "    'good_first_issue_issues_count': 0,\n",
       "    'starred_by_current_user': False},\n",
       "   {'id': '71948498',\n",
       "    'archived': False,\n",
       "    'color': '#3572A5',\n",
       "    'followers': 48084,\n",
       "    'has_funding_file': True,\n",
       "    'hl_name': 'localstack/localstack',\n",
       "    'hl_trunc_description': '<g-emoji class=\"g-emoji\" alias=\"computer\" fallback-src=\"https://github.githubassets.com/images/icons/emoji/unicode/1f4bb.png\">💻</g-emoji> A fully functional local AWS cloud stack. Develop and test your cloud &amp; Serverless apps offline',\n",
       "    'language': 'Python',\n",
       "    'mirror': False,\n",
       "    'owned_by_organization': True,\n",
       "    'public': True,\n",
       "    'repo': {'repository': {'id': 71948498,\n",
       "      'name': 'localstack',\n",
       "      'owner_id': 28732122,\n",
       "      'owner_login': 'localstack',\n",
       "      'updated_at': '2023-08-17T13:58:12.645Z',\n",
       "      'has_issues': True}},\n",
       "    'sponsorable': False,\n",
       "    'topics': ['python',\n",
       "     'testing',\n",
       "     'aws',\n",
       "     'cloud',\n",
       "     'continuous-integration',\n",
       "     'developer-tools',\n",
       "     'localstack'],\n",
       "    'type': 'Public',\n",
       "    'help_wanted_issues_count': 0,\n",
       "    'good_first_issue_issues_count': 0,\n",
       "    'starred_by_current_user': False},\n",
       "   {'id': '620936652',\n",
       "    'archived': False,\n",
       "    'color': '#3572A5',\n",
       "    'followers': 44083,\n",
       "    'has_funding_file': True,\n",
       "    'hl_name': 'xtekky/gpt4free',\n",
       "    'hl_trunc_description': 'The official gpt4free repository | various collection of powerful language models',\n",
       "    'language': 'Python',\n",
       "    'mirror': False,\n",
       "    'owned_by_organization': False,\n",
       "    'public': True,\n",
       "    'repo': {'repository': {'id': 620936652,\n",
       "      'name': 'gpt4free',\n",
       "      'owner_id': 98614666,\n",
       "      'owner_login': 'xtekky',\n",
       "      'updated_at': '2023-08-17T13:47:05.507Z',\n",
       "      'has_issues': True}},\n",
       "    'sponsorable': False,\n",
       "    'topics': ['python',\n",
       "     'chatbot',\n",
       "     'reverse-engineering',\n",
       "     'openai',\n",
       "     'chatbots',\n",
       "     'gpt',\n",
       "     'language-model',\n",
       "     'gpt-3',\n",
       "     'gpt3',\n",
       "     'openai-api',\n",
       "     'gpt-4',\n",
       "     'gpt4',\n",
       "     'chatgpt',\n",
       "     'chatgpt-api',\n",
       "     'openai-chatgpt',\n",
       "     'chatgpt-free',\n",
       "     'chatgpt-4',\n",
       "     'chatgpt4',\n",
       "     'gpt4-api',\n",
       "     'free-gpt'],\n",
       "    'type': 'Public',\n",
       "    'help_wanted_issues_count': 0,\n",
       "    'good_first_issue_issues_count': 0,\n",
       "    'starred_by_current_user': False},\n",
       "   {'id': '70905478',\n",
       "    'archived': False,\n",
       "    'color': '#3572A5',\n",
       "    'followers': 36071,\n",
       "    'has_funding_file': False,\n",
       "    'hl_name': 'floodsung/Deep-Learning-Papers-Reading-Roadmap',\n",
       "    'hl_trunc_description': 'Deep Learning papers reading roadmap for anyone who are eager to learn this amazing tech!',\n",
       "    'language': 'Python',\n",
       "    'mirror': False,\n",
       "    'owned_by_organization': False,\n",
       "    'public': True,\n",
       "    'repo': {'repository': {'id': 70905478,\n",
       "      'name': 'Deep-Learning-Papers-Reading-Roadmap',\n",
       "      'owner_id': 3880963,\n",
       "      'owner_login': 'floodsung',\n",
       "      'updated_at': '2022-11-27T13:18:32.008Z',\n",
       "      'has_issues': True}},\n",
       "    'sponsorable': False,\n",
       "    'topics': ['deep-learning'],\n",
       "    'type': 'Public',\n",
       "    'help_wanted_issues_count': 0,\n",
       "    'good_first_issue_issues_count': 0,\n",
       "    'starred_by_current_user': False},\n",
       "   {'id': '90563585',\n",
       "    'archived': False,\n",
       "    'color': '#3572A5',\n",
       "    'followers': 35805,\n",
       "    'has_funding_file': False,\n",
       "    'hl_name': 'chubin/cheat.sh',\n",
       "    'hl_trunc_description': 'the only cheat sheet you need',\n",
       "    'language': 'Python',\n",
       "    'mirror': False,\n",
       "    'owned_by_organization': False,\n",
       "    'public': True,\n",
       "    'repo': {'repository': {'id': 90563585,\n",
       "      'name': 'cheat.sh',\n",
       "      'owner_id': 3875145,\n",
       "      'owner_login': 'chubin',\n",
       "      'updated_at': '2023-06-16T02:41:55.730Z',\n",
       "      'has_issues': True}},\n",
       "    'sponsorable': False,\n",
       "    'topics': ['cli',\n",
       "     'documentation',\n",
       "     'terminal',\n",
       "     'command-line',\n",
       "     'curl',\n",
       "     'examples',\n",
       "     'help',\n",
       "     'tldr',\n",
       "     'cheatsheet',\n",
       "     'hacktoberfest2021'],\n",
       "    'type': 'Public',\n",
       "    'help_wanted_issues_count': 1,\n",
       "    'good_first_issue_issues_count': 1,\n",
       "    'starred_by_current_user': False},\n",
       "   {'id': '608555244',\n",
       "    'archived': False,\n",
       "    'color': '#3572A5',\n",
       "    'followers': 33903,\n",
       "    'has_funding_file': False,\n",
       "    'hl_name': 'microsoft/TaskMatrix',\n",
       "    'hl_trunc_description': None,\n",
       "    'language': 'Python',\n",
       "    'mirror': False,\n",
       "    'owned_by_organization': True,\n",
       "    'public': True,\n",
       "    'repo': {'repository': {'id': 608555244,\n",
       "      'name': 'TaskMatrix',\n",
       "      'owner_id': 6154722,\n",
       "      'owner_login': 'microsoft',\n",
       "      'updated_at': '2023-08-17T04:37:03.225Z',\n",
       "      'has_issues': True}},\n",
       "    'sponsorable': False,\n",
       "    'topics': [],\n",
       "    'type': 'Public',\n",
       "    'help_wanted_issues_count': 0,\n",
       "    'good_first_issue_issues_count': 0,\n",
       "    'starred_by_current_user': False},\n",
       "   {'id': '4086616',\n",
       "    'archived': False,\n",
       "    'color': '#3572A5',\n",
       "    'followers': 33430,\n",
       "    'has_funding_file': False,\n",
       "    'hl_name': 'shadowsocks/shadowsocks',\n",
       "    'hl_trunc_description': None,\n",
       "    'language': 'Python',\n",
       "    'mirror': False,\n",
       "    'owned_by_organization': True,\n",
       "    'public': True,\n",
       "    'repo': {'repository': {'id': 4086616,\n",
       "      'name': 'shadowsocks',\n",
       "      'owner_id': 3006190,\n",
       "      'owner_login': 'shadowsocks',\n",
       "      'updated_at': '2022-11-27T06:10:06.530Z',\n",
       "      'has_issues': False}},\n",
       "    'sponsorable': False,\n",
       "    'topics': [],\n",
       "    'type': 'Public',\n",
       "    'help_wanted_issues_count': 1,\n",
       "    'good_first_issue_issues_count': 0,\n",
       "    'starred_by_current_user': False},\n",
       "   {'id': '613349035',\n",
       "    'archived': False,\n",
       "    'color': '#3572A5',\n",
       "    'followers': 33405,\n",
       "    'has_funding_file': False,\n",
       "    'hl_name': 'THUDM/ChatGLM-6B',\n",
       "    'hl_trunc_description': 'ChatGLM-6B: An Open Bilingual Dialogue Language Model | 开源双语对话语言模型',\n",
       "    'language': 'Python',\n",
       "    'mirror': False,\n",
       "    'owned_by_organization': True,\n",
       "    'public': True,\n",
       "    'repo': {'repository': {'id': 613349035,\n",
       "      'name': 'ChatGLM-6B',\n",
       "      'owner_id': 48590610,\n",
       "      'owner_login': 'THUDM',\n",
       "      'updated_at': '2023-08-01T12:42:53.887Z',\n",
       "      'has_issues': True}},\n",
       "    'sponsorable': False,\n",
       "    'topics': [],\n",
       "    'type': 'Public',\n",
       "    'help_wanted_issues_count': 0,\n",
       "    'good_first_issue_issues_count': 0,\n",
       "    'starred_by_current_user': False},\n",
       "   {'id': '262296122',\n",
       "    'archived': False,\n",
       "    'color': '#3572A5',\n",
       "    'followers': 32547,\n",
       "    'has_funding_file': False,\n",
       "    'hl_name': 'PaddlePaddle/PaddleOCR',\n",
       "    'hl_trunc_description': 'Awesome multilingual OCR toolkits based on PaddlePaddle (practical ultra lightweight OCR system, support 80+ languages recognition, provi…',\n",
       "    'language': 'Python',\n",
       "    'mirror': False,\n",
       "    'owned_by_organization': True,\n",
       "    'public': True,\n",
       "    'repo': {'repository': {'id': 262296122,\n",
       "      'name': 'PaddleOCR',\n",
       "      'owner_id': 23534030,\n",
       "      'owner_login': 'PaddlePaddle',\n",
       "      'updated_at': '2023-08-17T14:46:27.466Z',\n",
       "      'has_issues': True}},\n",
       "    'sponsorable': False,\n",
       "    'topics': ['ocr', 'db', 'crnn', 'ocrlite', 'chineseocr'],\n",
       "    'type': 'Public',\n",
       "    'help_wanted_issues_count': 2,\n",
       "    'good_first_issue_issues_count': 287,\n",
       "    'starred_by_current_user': False}],\n",
       "  'type': 'repositories',\n",
       "  'page': 1,\n",
       "  'page_count': 100,\n",
       "  'elapsed_millis': 561,\n",
       "  'errors': [],\n",
       "  'result_count': 862186,\n",
       "  'facets': [],\n",
       "  'protected_org_logins': [],\n",
       "  'topics': None,\n",
       "  'query_id': '',\n",
       "  'logged_in': False,\n",
       "  'sign_up_path': '/signup?source=code_search_results',\n",
       "  'sign_in_path': '/login?return_to=https%3A%2F%2Fgithub.com%2Fsearch%3Fq%3Dstars%253A%253E1%2Blanguage%253APython%26type%3Drepositories%26l%3DPython',\n",
       "  'csrf_tokens': {'/swisskyrepo/PayloadsAllTheThings/star': {'post': 'xx7BSu56MMhWlyTQoeqleq5g0fCvncciplF0eccQKISHy7IRKuD04ym0mNX4GLc7wiOwVCqnrajPgMWFeExaYA'},\n",
       "   '/swisskyrepo/PayloadsAllTheThings/unstar': {'post': '7dFa5E3CKxFVkJfrLzbQ84vpePoh6RBnFwTAUoA8LQaZzflu1Qu6aEQIi6j7USyiNZT-uYDjFM2fzKsp4VW7Wg'},\n",
       "   '/ageitgey/face_recognition/star': {'post': 'QxiBkI5md6s__6WDYPhItkaatrds35nwRyNQgCuw6JIYEUFdB9VGb5lDlCnEEkraMkglTbyGy5nP75i1uUAyHw'},\n",
       "   '/ageitgey/face_recognition/unstar': {'post': '6yv1ywfWxUeUF_J3S5w67eylyqidAfG5Zi0gwpd9ijVcqKrKWyQCqOlP8r6NwJgFopcDzxyG543CZLREvfTDRA'},\n",
       "   '/localstack/localstack/star': {'post': 'ZmapbgfBfu2QMvgQAhnhNWE0cZifiqFzEFGZFggqPhDJsJj-G9W4hRCaoEPFHwxbMZLLLKUW3jMLYDzLbGdLgA'},\n",
       "   '/localstack/localstack/unstar': {'post': 'JVi2-Z0_JShAFyTSD8v_f9Z0n0P5FBwq_5okEnkG9qrMLu6Jhdus4HXl1P8mNJkxvSdqoNcZV56N997_nxzggw'},\n",
       "   '/xtekky/gpt4free/star': {'post': 'foe8PBMZkN52Vbi78PHUDXQuWEY9wDuIX_nk5qxMIiOkV5gqJwTIcdxsK0PZZjzWd3CWqr3jYv9n8OciXR7btQ'},\n",
       "   '/xtekky/gpt4free/unstar': {'post': '_Kv-A3yAmiXU8v83W6uYYDj3axNwuQ86nF0QZ5Lmy_LWahocJsx-irLD-pu088W32yrifJN20uzfL8Dpouo6kw'},\n",
       "   '/floodsung/Deep-Learning-Papers-Reading-Roadmap/star': {'post': 'IqtjY4_ASNGFNrsEMqLr--q1tXCfEW2eC0iC_e3WnF94unBWeoZWvpL8J1pVGzVxyl-ol35pDfxodrp6M7bRtg'},\n",
       "   '/floodsung/Deep-Learning-Papers-Reading-Roadmap/unstar': {'post': '5Jfxz2eDCTBKsyuCfIBCwfhxJQk7La3iHqnMrD_BpPKL_8KnzvLgF14Xopq8K4DI3FUqXA5hkKfiH9mpPTRtEA'},\n",
       "   '/chubin/cheat.sh/star': {'post': '5O2reoERN0wmd71caRSaUIGnP7TWSj0_OHu4lNHj3tr3exk9OW-WasxlAHr3Q3JpDmkvjNlWIZfaeYi3X29Gjg'},\n",
       "   '/chubin/cheat.sh/unstar': {'post': 'KbOn_uuINIxPnHzXDWY1UEaN02IKZVcoAJXW5HRxfkP2TL5ppx8odn7WErABgweij7OebfNbVDfz9olgRYebVQ'},\n",
       "   '/microsoft/TaskMatrix/star': {'post': 'h-pNlr2Wjo9-NM8mLvRWDy7Jdi44PzVGMH8lqgUWEI10QANBKGfiuDMp64BZ1oVYDOB5vxiwrETEsr9y4dg5Nw'},\n",
       "   '/microsoft/TaskMatrix/unstar': {'post': 'pyYPo5qPH7nOJQLCY3p3q0G0_qV9TND_KwgFOql3YeUz5N95LjqvNX7zAEbtZxUlCrreCLYYuQ9TQ8bLSeMOiw'},\n",
       "   '/shadowsocks/shadowsocks/star': {'post': 'pOoKzZGRx6nX6xJfQd5aV7oqiXk8Goa_0maCILFv_Rniko5L8ik85oV5cRGxUhiaLHAxMqAKj1TjXop1l8lFRA'},\n",
       "   '/shadowsocks/shadowsocks/unstar': {'post': '4KuyATid6tgOhvcWS4tj2g2mSUT9W6YQ3HpWxwUHXgfcLfHXJ1wJmA3ScqdhHHQtzp8_zWUTlZ2KSXlrNzWhSA'},\n",
       "   '/THUDM/ChatGLM-6B/star': {'post': 'Iw1vYQ93Nr1tWlm7i3ZzXZA6mgi2b-42QMIgW5kyWnpIeoc-8ibjFK3oWJHLKodWm5WmLvKlFuYot3hPkzrDSA'},\n",
       "   '/THUDM/ChatGLM-6B/unstar': {'post': 'VUvzgPPMqzkQE57XxNnQeCoKZvZmuEhqjPe1rj3LIVL25iqYrTE5zXrXeHXS0uJO9Wx8FGRL1qfJW7EASFy8aA'},\n",
       "   '/PaddlePaddle/PaddleOCR/star': {'post': 'OMWfJHU7D1x9Qzlj5WE1zBJy2_4BAPx3zkHrwpIWW83v5ITOrh4zpg0CG_d3YKI6TqCRTIGOFTBaT5qpnsaYsw'},\n",
       "   '/PaddlePaddle/PaddleOCR/unstar': {'post': 'fMEVa7fUkAv3PvbqiEGTDKZRy32Kwti_aAOh2UDACiTEQv25YUydsdsu90nhycRaJh7PIY6smoO-uOVrMa9slQ'},\n",
       "   '/sponsors/batch_deferred_sponsor_buttons': {'post': 'm-uwgsxct3ltSUmQM678KDfAaxz9SfM_ktm-UJly4LQeBl13HSqvGghUu_s_G6pqv-WhLpizvALeuao2yaGxjg'}}},\n",
       " 'title': 'Repository search results'}"
      ]
     },
     "execution_count": 32,
     "metadata": {},
     "output_type": "execute_result"
    }
   ],
   "source": [
    "responce"
   ]
  },
  {
   "cell_type": "code",
   "execution_count": null,
   "id": "b211a0ad-6841-405f-a087-b26391f5fb25",
   "metadata": {},
   "outputs": [],
   "source": []
  }
 ],
 "metadata": {
  "kernelspec": {
   "display_name": "Python 3 (ipykernel)",
   "language": "python",
   "name": "python3"
  },
  "language_info": {
   "codemirror_mode": {
    "name": "ipython",
    "version": 3
   },
   "file_extension": ".py",
   "mimetype": "text/x-python",
   "name": "python",
   "nbconvert_exporter": "python",
   "pygments_lexer": "ipython3",
   "version": "3.11.3"
  }
 },
 "nbformat": 4,
 "nbformat_minor": 5
}
