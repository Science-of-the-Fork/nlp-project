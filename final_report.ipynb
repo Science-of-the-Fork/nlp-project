{
 "cells": [
  {
   "cell_type": "markdown",
   "id": "444c5f36",
   "metadata": {},
   "source": [
    "# TELCO CHURN\n"
   ]
  },
  {
   "cell_type": "markdown",
   "id": "c23e8021",
   "metadata": {},
   "source": [
    "## Goal:\n",
    "\n",
    "    -Discover the drivers of churn in the telco data set\n",
    "    -use these drivers to make a model that predicts whether or not a customer will churn."
   ]
  },
  {
   "cell_type": "markdown",
   "id": "a6acc94b",
   "metadata": {},
   "source": [
    "## Imports:    "
   ]
  },
  {
   "cell_type": "code",
   "execution_count": 1,
   "id": "c266208f",
   "metadata": {},
   "outputs": [],
   "source": [
    "from prepare import prep_telco_data\n",
    "import acquire \n",
    "import env \n",
    "import warnings\n",
    "warnings.filterwarnings(\"ignore\")\n",
    "import pandas as pd\n",
    "import numpy as np\n",
    "from sklearn.model_selection import train_test_split\n",
    "from sklearn.metrics import confusion_matrix\n",
    "from sklearn.linear_model import LogisticRegression\n",
    "from sklearn.ensemble import RandomForestClassifier\n",
    "from sklearn.tree import DecisionTreeClassifier, plot_tree\n",
    "from sklearn.neighbors import KNeighborsClassifier\n",
    "from sklearn.metrics import accuracy_score\n",
    "from sklearn.metrics import classification_report, confusion_matrix, ConfusionMatrixDisplay\n",
    "import scipy.stats as stats\n",
    "from scipy.stats import  chi2_contingency\n",
    "import matplotlib.pyplot as plt\n",
    "%matplotlib inline\n",
    "import seaborn as sns"
   ]
  },
  {
   "cell_type": "markdown",
   "id": "9148514a",
   "metadata": {},
   "source": [
    "## Acquire\n",
    "    -Data acquired from Telco Data Set\n",
    "    -It contained 7043 rows and 21 columns before cleaning\n",
    "    -Each row represents a customer ID\n",
    "    -Each column represents a feature of that customer"
   ]
  },
  {
   "cell_type": "markdown",
   "id": "d92ef945",
   "metadata": {},
   "source": [
    "##  Prepare\n",
    "\n",
    "### Prepare Actions:\n",
    "```\n",
    "Removed columns that did not contain useful information\n",
    "Renamed columns to promote readability\n",
    "Checked for nulls in the data \n",
    "Checked that column data types were appropriate\n",
    "Removed white space from values in object columns\n",
    "Added Target column 'has_churned' indicating whether the has churned or not\n",
    "Encoded categorical variables\n",
    "Split data into train, validate and test (approx. 50/30/20), stratifying on 'churn'\n",
    "Outliers have not been removed for this iteration of the project\n",
    "```"
   ]
  },
  {
   "cell_type": "markdown",
   "id": "074f0e3d",
   "metadata": {},
   "source": [
    "## Data Dictionary\n",
    "\n",
    "| Attribute | Definition | Data Type |\n",
    "| ----- | ----- | ----- |\n",
    "| total_charges | total accumulated charges| float |\n",
    "| monthly_charges|customers charges monthly | float |\n",
    "| tenure |months a customer has been with company |int |\n",
    "| gender_female |customer is or is not female | int |\n",
    "| gender |sex of customer |  object\n",
    "| senior_citizen   |customer stats of senior or not senior | int64\n",
    "| partner  | has partner or does not |  int64\n",
    "| dependents  |does customer have dependents |  int64\n",
    "|     phone_service |customer purchsed phone service |    int64\n",
    "|    multiple_lines |customer has multiple lines |   object\n",
    "|   online_security |customer signed up for online security |   object\n",
    "|     online_backup |customer opt in to online backup|   object\n",
    "| device_protection |customer is enrolled in device protection |   object\n",
    "|      tech_support |customer opt in for tech support |   object\n",
    "|      streaming_tv |customer signed up for streaming television |   object\n",
    "|  streaming_movies |customer signed up for streaming movies |   object\n",
    "| paperless_billing |enrolled in e-bill |    int64\n",
    "|           churn   |customer is active or is not active | object\n",
    "|    contract_type  |service contract customer selected |  object\n",
    "|internet_service_type |info for what kind of internet service customer chose  |  object\n",
    "| payment_type | info for customer preffered payment method |  object\n",
    "| has_churned  | whether a customer has churned |  int64\n",
    "|multiple_lines_No phone service  |multiple phone lines  | uint8\n",
    "|                   multiple_lines_Yes  | multiple lines  | uint8\n",
    "|  online_security_No internet service  | customer doesnt have online security  | uint8\n",
    "|                  online_security_Yes  | customer has online security  | uint8\n",
    "|    online_backup_No internet service  | customer does not have online back up  | uint8\n",
    "|                    online_backup_Yes  | customer has online back up  | uint8\n",
    "|device_protection_No internet service  | customer does not have device protection  | uint8\n",
    "|                device_protection_Yes  |  customer does have device protection | uint8\n",
    "|     tech_support_No internet service  | customer does not have tech support  | uint8\n",
    "|                     tech_support_Yes  | customer has tech support  | uint8\n",
    "|     streaming_tv_No internet service  | customer does not have tv streaming  | uint8\n",
    "|                     streaming_tv_Yes  | customer can stream tv  | uint8\n",
    "| streaming_movies_No internet service  |  customer cannot stream movies | uint8\n",
    "|                 streaming_movies_Yes  |customer is able to stream movies   | uint8\n",
    "|               contract_type_One year  | customer is on a one year contract  | uint8\n",
    "|               contract_type_Two year  | customer is on a two year contract  | uint8\n",
    "|    internet_service_type_Fiber optic  | customer has fiber internet  | uint8\n",
    "|           internet_service_type_None  |  customer does not have internet | uint8\n",
    "| payment_type_Credit card (automatic)  |  customer pays via credit card | uint8\n",
    "|        payment_type_Electronic check  | customer pays via e-check  | uint8\n",
    "|            payment_type_Mailed check  | customer pays with mail-in check  | uint8\n",
    "**\n"
   ]
  },
  {
   "cell_type": "markdown",
   "id": "71ff5740",
   "metadata": {},
   "source": [
    "# Quick Data Preview"
   ]
  },
  {
   "cell_type": "code",
   "execution_count": 2,
   "id": "a321812d",
   "metadata": {
    "scrolled": true
   },
   "outputs": [],
   "source": [
    "#code to acquire the telco data using function from acquire.py file\n",
    "df = acquire.new_telco_data()"
   ]
  },
  {
   "cell_type": "code",
   "execution_count": 3,
   "id": "c30a7131",
   "metadata": {
    "scrolled": false
   },
   "outputs": [],
   "source": [
    "#code to prep the telco data using function from prepare.py file\n",
    "#%%capture\n",
    "train, validate, test = prep_telco_data(df)"
   ]
  },
  {
   "cell_type": "code",
   "execution_count": 4,
   "id": "413164e7",
   "metadata": {},
   "outputs": [
    {
     "data": {
      "text/html": [
       "<div>\n",
       "<style scoped>\n",
       "    .dataframe tbody tr th:only-of-type {\n",
       "        vertical-align: middle;\n",
       "    }\n",
       "\n",
       "    .dataframe tbody tr th {\n",
       "        vertical-align: top;\n",
       "    }\n",
       "\n",
       "    .dataframe thead th {\n",
       "        text-align: right;\n",
       "    }\n",
       "</style>\n",
       "<table border=\"1\" class=\"dataframe\">\n",
       "  <thead>\n",
       "    <tr style=\"text-align: right;\">\n",
       "      <th></th>\n",
       "      <th>customer_id</th>\n",
       "      <th>gender</th>\n",
       "      <th>senior_citizen</th>\n",
       "      <th>partner</th>\n",
       "      <th>dependents</th>\n",
       "      <th>tenure</th>\n",
       "      <th>phone_service</th>\n",
       "      <th>multiple_lines</th>\n",
       "      <th>online_security</th>\n",
       "      <th>online_backup</th>\n",
       "      <th>...</th>\n",
       "      <th>streaming_tv_Yes</th>\n",
       "      <th>streaming_movies_No internet service</th>\n",
       "      <th>streaming_movies_Yes</th>\n",
       "      <th>contract_type_One year</th>\n",
       "      <th>contract_type_Two year</th>\n",
       "      <th>internet_service_type_Fiber optic</th>\n",
       "      <th>internet_service_type_None</th>\n",
       "      <th>payment_type_Credit card (automatic)</th>\n",
       "      <th>payment_type_Electronic check</th>\n",
       "      <th>payment_type_Mailed check</th>\n",
       "    </tr>\n",
       "  </thead>\n",
       "  <tbody>\n",
       "    <tr>\n",
       "      <th>5919</th>\n",
       "      <td>8331-ZXFOE</td>\n",
       "      <td>Female</td>\n",
       "      <td>0</td>\n",
       "      <td>0</td>\n",
       "      <td>0</td>\n",
       "      <td>58</td>\n",
       "      <td>1</td>\n",
       "      <td>Yes</td>\n",
       "      <td>Yes</td>\n",
       "      <td>Yes</td>\n",
       "      <td>...</td>\n",
       "      <td>0</td>\n",
       "      <td>0</td>\n",
       "      <td>0</td>\n",
       "      <td>1</td>\n",
       "      <td>0</td>\n",
       "      <td>0</td>\n",
       "      <td>0</td>\n",
       "      <td>1</td>\n",
       "      <td>0</td>\n",
       "      <td>0</td>\n",
       "    </tr>\n",
       "    <tr>\n",
       "      <th>1915</th>\n",
       "      <td>2790-XUYMV</td>\n",
       "      <td>Male</td>\n",
       "      <td>0</td>\n",
       "      <td>0</td>\n",
       "      <td>1</td>\n",
       "      <td>71</td>\n",
       "      <td>1</td>\n",
       "      <td>Yes</td>\n",
       "      <td>Yes</td>\n",
       "      <td>Yes</td>\n",
       "      <td>...</td>\n",
       "      <td>0</td>\n",
       "      <td>0</td>\n",
       "      <td>0</td>\n",
       "      <td>1</td>\n",
       "      <td>0</td>\n",
       "      <td>1</td>\n",
       "      <td>0</td>\n",
       "      <td>1</td>\n",
       "      <td>0</td>\n",
       "      <td>0</td>\n",
       "    </tr>\n",
       "    <tr>\n",
       "      <th>5054</th>\n",
       "      <td>7107-UBYKY</td>\n",
       "      <td>Female</td>\n",
       "      <td>0</td>\n",
       "      <td>1</td>\n",
       "      <td>1</td>\n",
       "      <td>35</td>\n",
       "      <td>1</td>\n",
       "      <td>Yes</td>\n",
       "      <td>No internet service</td>\n",
       "      <td>No internet service</td>\n",
       "      <td>...</td>\n",
       "      <td>0</td>\n",
       "      <td>1</td>\n",
       "      <td>0</td>\n",
       "      <td>0</td>\n",
       "      <td>0</td>\n",
       "      <td>0</td>\n",
       "      <td>1</td>\n",
       "      <td>0</td>\n",
       "      <td>1</td>\n",
       "      <td>0</td>\n",
       "    </tr>\n",
       "    <tr>\n",
       "      <th>2355</th>\n",
       "      <td>3373-YZZYM</td>\n",
       "      <td>Male</td>\n",
       "      <td>0</td>\n",
       "      <td>1</td>\n",
       "      <td>1</td>\n",
       "      <td>1</td>\n",
       "      <td>1</td>\n",
       "      <td>No</td>\n",
       "      <td>No internet service</td>\n",
       "      <td>No internet service</td>\n",
       "      <td>...</td>\n",
       "      <td>0</td>\n",
       "      <td>1</td>\n",
       "      <td>0</td>\n",
       "      <td>0</td>\n",
       "      <td>0</td>\n",
       "      <td>0</td>\n",
       "      <td>1</td>\n",
       "      <td>0</td>\n",
       "      <td>0</td>\n",
       "      <td>1</td>\n",
       "    </tr>\n",
       "    <tr>\n",
       "      <th>6279</th>\n",
       "      <td>8883-GRDWQ</td>\n",
       "      <td>Male</td>\n",
       "      <td>1</td>\n",
       "      <td>0</td>\n",
       "      <td>0</td>\n",
       "      <td>20</td>\n",
       "      <td>1</td>\n",
       "      <td>No</td>\n",
       "      <td>Yes</td>\n",
       "      <td>No</td>\n",
       "      <td>...</td>\n",
       "      <td>0</td>\n",
       "      <td>0</td>\n",
       "      <td>0</td>\n",
       "      <td>1</td>\n",
       "      <td>0</td>\n",
       "      <td>0</td>\n",
       "      <td>0</td>\n",
       "      <td>0</td>\n",
       "      <td>0</td>\n",
       "      <td>1</td>\n",
       "    </tr>\n",
       "  </tbody>\n",
       "</table>\n",
       "<p>5 rows × 44 columns</p>\n",
       "</div>"
      ],
      "text/plain": [
       "     customer_id  gender  senior_citizen  partner  dependents  tenure  \\\n",
       "5919  8331-ZXFOE  Female               0        0           0      58   \n",
       "1915  2790-XUYMV    Male               0        0           1      71   \n",
       "5054  7107-UBYKY  Female               0        1           1      35   \n",
       "2355  3373-YZZYM    Male               0        1           1       1   \n",
       "6279  8883-GRDWQ    Male               1        0           0      20   \n",
       "\n",
       "      phone_service multiple_lines      online_security        online_backup  \\\n",
       "5919              1            Yes                  Yes                  Yes   \n",
       "1915              1            Yes                  Yes                  Yes   \n",
       "5054              1            Yes  No internet service  No internet service   \n",
       "2355              1             No  No internet service  No internet service   \n",
       "6279              1             No                  Yes                   No   \n",
       "\n",
       "      ... streaming_tv_Yes streaming_movies_No internet service  \\\n",
       "5919  ...                0                                    0   \n",
       "1915  ...                0                                    0   \n",
       "5054  ...                0                                    1   \n",
       "2355  ...                0                                    1   \n",
       "6279  ...                0                                    0   \n",
       "\n",
       "     streaming_movies_Yes contract_type_One year  contract_type_Two year  \\\n",
       "5919                    0                      1                       0   \n",
       "1915                    0                      1                       0   \n",
       "5054                    0                      0                       0   \n",
       "2355                    0                      0                       0   \n",
       "6279                    0                      1                       0   \n",
       "\n",
       "      internet_service_type_Fiber optic  internet_service_type_None  \\\n",
       "5919                                  0                           0   \n",
       "1915                                  1                           0   \n",
       "5054                                  0                           1   \n",
       "2355                                  0                           1   \n",
       "6279                                  0                           0   \n",
       "\n",
       "      payment_type_Credit card (automatic) payment_type_Electronic check  \\\n",
       "5919                                     1                             0   \n",
       "1915                                     1                             0   \n",
       "5054                                     0                             1   \n",
       "2355                                     0                             0   \n",
       "6279                                     0                             0   \n",
       "\n",
       "     payment_type_Mailed check  \n",
       "5919                         0  \n",
       "1915                         0  \n",
       "5054                         0  \n",
       "2355                         1  \n",
       "6279                         1  \n",
       "\n",
       "[5 rows x 44 columns]"
      ]
     },
     "execution_count": 4,
     "metadata": {},
     "output_type": "execute_result"
    }
   ],
   "source": [
    "#code to preview the train dataset\n",
    "train.head()"
   ]
  },
  {
   "cell_type": "markdown",
   "id": "fdb5055f",
   "metadata": {},
   "source": [
    "## Data Summary"
   ]
  },
  {
   "cell_type": "code",
   "execution_count": 5,
   "id": "3e3bd2c1",
   "metadata": {},
   "outputs": [
    {
     "data": {
      "text/html": [
       "<div>\n",
       "<style scoped>\n",
       "    .dataframe tbody tr th:only-of-type {\n",
       "        vertical-align: middle;\n",
       "    }\n",
       "\n",
       "    .dataframe tbody tr th {\n",
       "        vertical-align: top;\n",
       "    }\n",
       "\n",
       "    .dataframe thead th {\n",
       "        text-align: right;\n",
       "    }\n",
       "</style>\n",
       "<table border=\"1\" class=\"dataframe\">\n",
       "  <thead>\n",
       "    <tr style=\"text-align: right;\">\n",
       "      <th></th>\n",
       "      <th>senior_citizen</th>\n",
       "      <th>partner</th>\n",
       "      <th>dependents</th>\n",
       "      <th>tenure</th>\n",
       "      <th>phone_service</th>\n",
       "      <th>paperless_billing</th>\n",
       "      <th>monthly_charges</th>\n",
       "      <th>total_charges</th>\n",
       "      <th>churn</th>\n",
       "      <th>has_churned</th>\n",
       "      <th>...</th>\n",
       "      <th>streaming_tv_Yes</th>\n",
       "      <th>streaming_movies_No internet service</th>\n",
       "      <th>streaming_movies_Yes</th>\n",
       "      <th>contract_type_One year</th>\n",
       "      <th>contract_type_Two year</th>\n",
       "      <th>internet_service_type_Fiber optic</th>\n",
       "      <th>internet_service_type_None</th>\n",
       "      <th>payment_type_Credit card (automatic)</th>\n",
       "      <th>payment_type_Electronic check</th>\n",
       "      <th>payment_type_Mailed check</th>\n",
       "    </tr>\n",
       "  </thead>\n",
       "  <tbody>\n",
       "    <tr>\n",
       "      <th>count</th>\n",
       "      <td>3937.000000</td>\n",
       "      <td>3937.000000</td>\n",
       "      <td>3937.000000</td>\n",
       "      <td>3937.000000</td>\n",
       "      <td>3937.000000</td>\n",
       "      <td>3937.000000</td>\n",
       "      <td>3937.000000</td>\n",
       "      <td>3937.000000</td>\n",
       "      <td>3937.000000</td>\n",
       "      <td>3937.000000</td>\n",
       "      <td>...</td>\n",
       "      <td>3937.000000</td>\n",
       "      <td>3937.000000</td>\n",
       "      <td>3937.000000</td>\n",
       "      <td>3937.000000</td>\n",
       "      <td>3937.000000</td>\n",
       "      <td>3937.000000</td>\n",
       "      <td>3937.000000</td>\n",
       "      <td>3937.000000</td>\n",
       "      <td>3937.000000</td>\n",
       "      <td>3937.000000</td>\n",
       "    </tr>\n",
       "    <tr>\n",
       "      <th>mean</th>\n",
       "      <td>0.161290</td>\n",
       "      <td>0.485141</td>\n",
       "      <td>0.302769</td>\n",
       "      <td>32.775210</td>\n",
       "      <td>0.905258</td>\n",
       "      <td>0.590297</td>\n",
       "      <td>64.805131</td>\n",
       "      <td>2316.775641</td>\n",
       "      <td>0.265685</td>\n",
       "      <td>0.265685</td>\n",
       "      <td>...</td>\n",
       "      <td>0.386335</td>\n",
       "      <td>0.220218</td>\n",
       "      <td>0.391415</td>\n",
       "      <td>0.207010</td>\n",
       "      <td>0.243078</td>\n",
       "      <td>0.437389</td>\n",
       "      <td>0.220218</td>\n",
       "      <td>0.227330</td>\n",
       "      <td>0.327407</td>\n",
       "      <td>0.226314</td>\n",
       "    </tr>\n",
       "    <tr>\n",
       "      <th>std</th>\n",
       "      <td>0.367845</td>\n",
       "      <td>0.499843</td>\n",
       "      <td>0.459514</td>\n",
       "      <td>24.709604</td>\n",
       "      <td>0.292896</td>\n",
       "      <td>0.491841</td>\n",
       "      <td>30.294804</td>\n",
       "      <td>2284.984394</td>\n",
       "      <td>0.441753</td>\n",
       "      <td>0.441753</td>\n",
       "      <td>...</td>\n",
       "      <td>0.486971</td>\n",
       "      <td>0.414447</td>\n",
       "      <td>0.488129</td>\n",
       "      <td>0.405215</td>\n",
       "      <td>0.428997</td>\n",
       "      <td>0.496127</td>\n",
       "      <td>0.414447</td>\n",
       "      <td>0.419161</td>\n",
       "      <td>0.469327</td>\n",
       "      <td>0.418498</td>\n",
       "    </tr>\n",
       "    <tr>\n",
       "      <th>min</th>\n",
       "      <td>0.000000</td>\n",
       "      <td>0.000000</td>\n",
       "      <td>0.000000</td>\n",
       "      <td>1.000000</td>\n",
       "      <td>0.000000</td>\n",
       "      <td>0.000000</td>\n",
       "      <td>18.250000</td>\n",
       "      <td>18.850000</td>\n",
       "      <td>0.000000</td>\n",
       "      <td>0.000000</td>\n",
       "      <td>...</td>\n",
       "      <td>0.000000</td>\n",
       "      <td>0.000000</td>\n",
       "      <td>0.000000</td>\n",
       "      <td>0.000000</td>\n",
       "      <td>0.000000</td>\n",
       "      <td>0.000000</td>\n",
       "      <td>0.000000</td>\n",
       "      <td>0.000000</td>\n",
       "      <td>0.000000</td>\n",
       "      <td>0.000000</td>\n",
       "    </tr>\n",
       "    <tr>\n",
       "      <th>25%</th>\n",
       "      <td>0.000000</td>\n",
       "      <td>0.000000</td>\n",
       "      <td>0.000000</td>\n",
       "      <td>9.000000</td>\n",
       "      <td>1.000000</td>\n",
       "      <td>0.000000</td>\n",
       "      <td>34.700000</td>\n",
       "      <td>396.100000</td>\n",
       "      <td>0.000000</td>\n",
       "      <td>0.000000</td>\n",
       "      <td>...</td>\n",
       "      <td>0.000000</td>\n",
       "      <td>0.000000</td>\n",
       "      <td>0.000000</td>\n",
       "      <td>0.000000</td>\n",
       "      <td>0.000000</td>\n",
       "      <td>0.000000</td>\n",
       "      <td>0.000000</td>\n",
       "      <td>0.000000</td>\n",
       "      <td>0.000000</td>\n",
       "      <td>0.000000</td>\n",
       "    </tr>\n",
       "    <tr>\n",
       "      <th>50%</th>\n",
       "      <td>0.000000</td>\n",
       "      <td>0.000000</td>\n",
       "      <td>0.000000</td>\n",
       "      <td>30.000000</td>\n",
       "      <td>1.000000</td>\n",
       "      <td>1.000000</td>\n",
       "      <td>70.250000</td>\n",
       "      <td>1414.800000</td>\n",
       "      <td>0.000000</td>\n",
       "      <td>0.000000</td>\n",
       "      <td>...</td>\n",
       "      <td>0.000000</td>\n",
       "      <td>0.000000</td>\n",
       "      <td>0.000000</td>\n",
       "      <td>0.000000</td>\n",
       "      <td>0.000000</td>\n",
       "      <td>0.000000</td>\n",
       "      <td>0.000000</td>\n",
       "      <td>0.000000</td>\n",
       "      <td>0.000000</td>\n",
       "      <td>0.000000</td>\n",
       "    </tr>\n",
       "    <tr>\n",
       "      <th>75%</th>\n",
       "      <td>0.000000</td>\n",
       "      <td>1.000000</td>\n",
       "      <td>1.000000</td>\n",
       "      <td>56.000000</td>\n",
       "      <td>1.000000</td>\n",
       "      <td>1.000000</td>\n",
       "      <td>90.300000</td>\n",
       "      <td>3893.600000</td>\n",
       "      <td>1.000000</td>\n",
       "      <td>1.000000</td>\n",
       "      <td>...</td>\n",
       "      <td>1.000000</td>\n",
       "      <td>0.000000</td>\n",
       "      <td>1.000000</td>\n",
       "      <td>0.000000</td>\n",
       "      <td>0.000000</td>\n",
       "      <td>1.000000</td>\n",
       "      <td>0.000000</td>\n",
       "      <td>0.000000</td>\n",
       "      <td>1.000000</td>\n",
       "      <td>0.000000</td>\n",
       "    </tr>\n",
       "    <tr>\n",
       "      <th>max</th>\n",
       "      <td>1.000000</td>\n",
       "      <td>1.000000</td>\n",
       "      <td>1.000000</td>\n",
       "      <td>72.000000</td>\n",
       "      <td>1.000000</td>\n",
       "      <td>1.000000</td>\n",
       "      <td>118.650000</td>\n",
       "      <td>8594.400000</td>\n",
       "      <td>1.000000</td>\n",
       "      <td>1.000000</td>\n",
       "      <td>...</td>\n",
       "      <td>1.000000</td>\n",
       "      <td>1.000000</td>\n",
       "      <td>1.000000</td>\n",
       "      <td>1.000000</td>\n",
       "      <td>1.000000</td>\n",
       "      <td>1.000000</td>\n",
       "      <td>1.000000</td>\n",
       "      <td>1.000000</td>\n",
       "      <td>1.000000</td>\n",
       "      <td>1.000000</td>\n",
       "    </tr>\n",
       "  </tbody>\n",
       "</table>\n",
       "<p>8 rows × 32 columns</p>\n",
       "</div>"
      ],
      "text/plain": [
       "       senior_citizen      partner   dependents       tenure  phone_service  \\\n",
       "count     3937.000000  3937.000000  3937.000000  3937.000000    3937.000000   \n",
       "mean         0.161290     0.485141     0.302769    32.775210       0.905258   \n",
       "std          0.367845     0.499843     0.459514    24.709604       0.292896   \n",
       "min          0.000000     0.000000     0.000000     1.000000       0.000000   \n",
       "25%          0.000000     0.000000     0.000000     9.000000       1.000000   \n",
       "50%          0.000000     0.000000     0.000000    30.000000       1.000000   \n",
       "75%          0.000000     1.000000     1.000000    56.000000       1.000000   \n",
       "max          1.000000     1.000000     1.000000    72.000000       1.000000   \n",
       "\n",
       "       paperless_billing  monthly_charges  total_charges        churn  \\\n",
       "count        3937.000000      3937.000000    3937.000000  3937.000000   \n",
       "mean            0.590297        64.805131    2316.775641     0.265685   \n",
       "std             0.491841        30.294804    2284.984394     0.441753   \n",
       "min             0.000000        18.250000      18.850000     0.000000   \n",
       "25%             0.000000        34.700000     396.100000     0.000000   \n",
       "50%             1.000000        70.250000    1414.800000     0.000000   \n",
       "75%             1.000000        90.300000    3893.600000     1.000000   \n",
       "max             1.000000       118.650000    8594.400000     1.000000   \n",
       "\n",
       "       has_churned  ...  streaming_tv_Yes  \\\n",
       "count  3937.000000  ...       3937.000000   \n",
       "mean      0.265685  ...          0.386335   \n",
       "std       0.441753  ...          0.486971   \n",
       "min       0.000000  ...          0.000000   \n",
       "25%       0.000000  ...          0.000000   \n",
       "50%       0.000000  ...          0.000000   \n",
       "75%       1.000000  ...          1.000000   \n",
       "max       1.000000  ...          1.000000   \n",
       "\n",
       "       streaming_movies_No internet service  streaming_movies_Yes  \\\n",
       "count                           3937.000000           3937.000000   \n",
       "mean                               0.220218              0.391415   \n",
       "std                                0.414447              0.488129   \n",
       "min                                0.000000              0.000000   \n",
       "25%                                0.000000              0.000000   \n",
       "50%                                0.000000              0.000000   \n",
       "75%                                0.000000              1.000000   \n",
       "max                                1.000000              1.000000   \n",
       "\n",
       "       contract_type_One year  contract_type_Two year  \\\n",
       "count             3937.000000             3937.000000   \n",
       "mean                 0.207010                0.243078   \n",
       "std                  0.405215                0.428997   \n",
       "min                  0.000000                0.000000   \n",
       "25%                  0.000000                0.000000   \n",
       "50%                  0.000000                0.000000   \n",
       "75%                  0.000000                0.000000   \n",
       "max                  1.000000                1.000000   \n",
       "\n",
       "       internet_service_type_Fiber optic  internet_service_type_None  \\\n",
       "count                        3937.000000                 3937.000000   \n",
       "mean                            0.437389                    0.220218   \n",
       "std                             0.496127                    0.414447   \n",
       "min                             0.000000                    0.000000   \n",
       "25%                             0.000000                    0.000000   \n",
       "50%                             0.000000                    0.000000   \n",
       "75%                             1.000000                    0.000000   \n",
       "max                             1.000000                    1.000000   \n",
       "\n",
       "       payment_type_Credit card (automatic)  payment_type_Electronic check  \\\n",
       "count                           3937.000000                    3937.000000   \n",
       "mean                               0.227330                       0.327407   \n",
       "std                                0.419161                       0.469327   \n",
       "min                                0.000000                       0.000000   \n",
       "25%                                0.000000                       0.000000   \n",
       "50%                                0.000000                       0.000000   \n",
       "75%                                0.000000                       1.000000   \n",
       "max                                1.000000                       1.000000   \n",
       "\n",
       "       payment_type_Mailed check  \n",
       "count                3937.000000  \n",
       "mean                    0.226314  \n",
       "std                     0.418498  \n",
       "min                     0.000000  \n",
       "25%                     0.000000  \n",
       "50%                     0.000000  \n",
       "75%                     0.000000  \n",
       "max                     1.000000  \n",
       "\n",
       "[8 rows x 32 columns]"
      ]
     },
     "execution_count": 5,
     "metadata": {},
     "output_type": "execute_result"
    }
   ],
   "source": [
    "#this describes columns in train set\n",
    "train.describe()"
   ]
  },
  {
   "cell_type": "markdown",
   "id": "bad4df9e",
   "metadata": {},
   "source": [
    "# Explore"
   ]
  },
  {
   "cell_type": "markdown",
   "id": "ab47d414",
   "metadata": {},
   "source": [
    "## No Churn VS Churn"
   ]
  },
  {
   "cell_type": "code",
   "execution_count": 6,
   "id": "d93232a2",
   "metadata": {
    "scrolled": false
   },
   "outputs": [
    {
     "data": {
      "image/png": "[encoded data removed]",
      "text/plain": [
       "<Figure size 640x480 with 1 Axes>"
      ]
     },
     "metadata": {},
     "output_type": "display_data"
    }
   ],
   "source": [
    "#this creates a bar plot in order to visualize total customers churned and not churned\n",
    "train_churn_value_counts = train.churn.value_counts()\n",
    "plt.bar(train_churn_value_counts.index, train_churn_value_counts.values)\n",
    "plt.title(\"How Many Customers Have Churned?\")\n",
    "plt.xlabel(\"Churn\")\n",
    "plt.ylabel(\"Number of Customers\")\n",
    "plt.xticks([0, 1])\n",
    "plt.show()"
   ]
  },
  {
   "cell_type": "markdown",
   "id": "e017db7e",
   "metadata": {},
   "source": [
    " -Approximately 26% of total customers have churned"
   ]
  },
  {
   "cell_type": "markdown",
   "id": "1dd6fd1a",
   "metadata": {},
   "source": [
    "## Does gender effect Churn?"
   ]
  },
  {
   "cell_type": "code",
   "execution_count": 7,
   "id": "e40ff778",
   "metadata": {},
   "outputs": [
    {
     "data": {
      "text/plain": [
       "<Axes: xlabel='has_churned', ylabel='gender_female'>"
      ]
     },
     "execution_count": 7,
     "metadata": {},
     "output_type": "execute_result"
    },
    {
     "data": {
      "image/png": "[encoded data removed]",
      "text/plain": [
       "<Figure size 640x480 with 2 Axes>"
      ]
     },
     "metadata": {},
     "output_type": "display_data"
    }
   ],
   "source": [
    "#this create a visual of number of females and males churned\n",
    "contingency_table = pd.crosstab(train['gender_female'], train['has_churned'])\n",
    "contingency_table\n",
    "\n",
    "sns.heatmap(contingency_table, annot = True, fmt ='d', linewidths = .5)"
   ]
  },
  {
   "cell_type": "markdown",
   "id": "8e896afe",
   "metadata": {},
   "source": [
    "- Number of females churned/not churn is fairly equal to number of male churned/not churned.\n",
    "#### I will now use a chi2 test to investigate whether gender is associated with churn.\n",
    "\n",
    "- I will use a confidence interval of 95%\n",
    "- The resulting alpha is .05\n",
    "#### Ho: Gender is independent on churn\n",
    "#### Ha: Gender is dependent on churn."
   ]
  },
  {
   "cell_type": "code",
   "execution_count": 8,
   "id": "585cf42e",
   "metadata": {},
   "outputs": [
    {
     "data": {
      "text/plain": [
       "1.0"
      ]
     },
     "execution_count": 8,
     "metadata": {},
     "output_type": "execute_result"
    }
   ],
   "source": [
    "# alpha set to 0.05 \n",
    "a = 0.05\n",
    "contingency_table = pd.crosstab(train['gender_female'], train['has_churned'])\n",
    "# chi2 test is ran\n",
    "chi2, p_val, dof, expected = chi2_contingency(contingency_table)\n",
    "p_val"
   ]
  },
  {
   "cell_type": "code",
   "execution_count": 9,
   "id": "cb2d0bd0",
   "metadata": {},
   "outputs": [
    {
     "data": {
      "text/plain": [
       "False"
      ]
     },
     "execution_count": 9,
     "metadata": {},
     "output_type": "execute_result"
    }
   ],
   "source": [
    "#code gives a true or false response to the mathematic equation below\n",
    "p_val < a"
   ]
  },
  {
   "cell_type": "markdown",
   "id": "61ff03fa",
   "metadata": {},
   "source": [
    "#### The p-value is greater than the alpha. Therefore, we have confidence that gender and churn are not asscoiated. Based on this, we fail to reject the null hypothesis."
   ]
  },
  {
   "cell_type": "markdown",
   "id": "2f613e51",
   "metadata": {},
   "source": [
    "## Does total charges effect churn?"
   ]
  },
  {
   "cell_type": "code",
   "execution_count": 10,
   "id": "dc494e5d",
   "metadata": {},
   "outputs": [
    {
     "data": {
      "image/png": "[encoded data removed]",
      "text/plain": [
       "<Figure size 640x480 with 1 Axes>"
      ]
     },
     "metadata": {},
     "output_type": "display_data"
    }
   ],
   "source": [
    "# creating box plot for churn and total charges\n",
    "sns.boxplot(x='churn', y='total_charges', data=train)\n",
    "plt.title(\"Total Charges by Churn\")\n",
    "plt.xlabel(\"Churn\")\n",
    "plt.ylabel(\"Total Charges\")\n",
    "plt.xticks([0, 1], ['No Churn', 'Churn'])\n",
    "plt.show()\n"
   ]
  },
  {
   "cell_type": "markdown",
   "id": "7eb02486",
   "metadata": {},
   "source": [
    "- There seems to be an association between tenure and churn based off the means above\n",
    "\n",
    "#### I will now use a independent t test to investigate whether total charges and churn are associated.\n",
    "\n",
    "- I will use a confidence interval of 95%\n",
    "- The resulting alpha is .05\n",
    "#### Ho: Total charges and churn are not associated.\n",
    "#### Ha: Total charges and churn are associated."
   ]
  },
  {
   "cell_type": "code",
   "execution_count": 11,
   "id": "2199fcf9",
   "metadata": {},
   "outputs": [
    {
     "data": {
      "text/plain": [
       "1.2955473562990627e-34"
      ]
     },
     "execution_count": 11,
     "metadata": {},
     "output_type": "execute_result"
    }
   ],
   "source": [
    "# sets alpha value and runs independent ttest for total charges\n",
    "a = 0.05\n",
    "churned = train[train['has_churned'] == 1]['total_charges']\n",
    "not_churned = train[train['has_churned'] == 0]['total_charges']\n",
    "\n",
    "t_statistic, p_val = stats.ttest_ind(churned, not_churned)\n",
    "p_val"
   ]
  },
  {
   "cell_type": "code",
   "execution_count": 12,
   "id": "d87de256",
   "metadata": {},
   "outputs": [
    {
     "data": {
      "text/plain": [
       "True"
      ]
     },
     "execution_count": 12,
     "metadata": {},
     "output_type": "execute_result"
    }
   ],
   "source": [
    "#code gives a true or false response to the mathematic equation below\n",
    "p_val < a"
   ]
  },
  {
   "cell_type": "markdown",
   "id": "0cf1e698",
   "metadata": {},
   "source": [
    "#### The p-value is less than the alpha. Therefore, we have confidence to support that total charges and churn are asscoiated. Based on this, we can successfully reject the null hypothesis."
   ]
  },
  {
   "cell_type": "markdown",
   "id": "1430c458",
   "metadata": {},
   "source": [
    "## Does monthly charges have and effect on churn?"
   ]
  },
  {
   "cell_type": "code",
   "execution_count": 13,
   "id": "ab975697",
   "metadata": {},
   "outputs": [
    {
     "data": {
      "image/png": "[encoded data removed]",
      "text/plain": [
       "<Figure size 640x480 with 1 Axes>"
      ]
     },
     "metadata": {},
     "output_type": "display_data"
    }
   ],
   "source": [
    "# creating box plot for churn and monthly charges\n",
    "sns.boxplot(x='churn', y='monthly_charges', data=train)\n",
    "plt.title(\"Monthly Charges by Churn\")\n",
    "plt.xlabel(\"Churn\")\n",
    "plt.ylabel(\"Monthly Charges\")\n",
    "plt.xticks([0, 1], ['No Churn', 'Churn'])\n",
    "plt.show()"
   ]
  },
  {
   "cell_type": "markdown",
   "id": "5c7ea051",
   "metadata": {},
   "source": [
    "- Churn occurs more during higher monthly charges compared to when there is no churn\n",
    "#### I will now use a independent t test to investigate whether monthly charges and churn are associated.\n",
    "\n",
    "- I will use a confidence interval of 95%\n",
    "- The resulting alpha is .05\n",
    "#### Ho: Monthly charges and churn are not associated.\n",
    "#### Ha: Monthly charges and churn are associated."
   ]
  },
  {
   "cell_type": "code",
   "execution_count": 14,
   "id": "a3acae3e",
   "metadata": {},
   "outputs": [
    {
     "data": {
      "text/plain": [
       "1.0736272928972876e-35"
      ]
     },
     "execution_count": 14,
     "metadata": {},
     "output_type": "execute_result"
    }
   ],
   "source": [
    "# sets alpha value and runs independent ttest for monthly charges\n",
    "a = 0.05\n",
    "churned = train[train['has_churned'] == 1]['monthly_charges']\n",
    "not_churned = train[train['has_churned'] == 0]['monthly_charges']\n",
    "\n",
    "t_statistic, p_val = stats.ttest_ind(churned, not_churned)\n",
    "p_val"
   ]
  },
  {
   "cell_type": "code",
   "execution_count": 15,
   "id": "0ad045f8",
   "metadata": {},
   "outputs": [
    {
     "data": {
      "text/plain": [
       "True"
      ]
     },
     "execution_count": 15,
     "metadata": {},
     "output_type": "execute_result"
    }
   ],
   "source": [
    "#code gives a true or false response to the mathematic equation below\n",
    "p_val < a"
   ]
  },
  {
   "cell_type": "markdown",
   "id": "7a5ffe78",
   "metadata": {},
   "source": [
    "#### The p-value is less than the alpha. Therefore, we have confidence that monthly charges and churn are asscoiated. Based on this, we can successfully reject the null hypothesis."
   ]
  },
  {
   "cell_type": "markdown",
   "id": "f6fa5e74",
   "metadata": {},
   "source": [
    "## Does tenure effect churn?"
   ]
  },
  {
   "cell_type": "code",
   "execution_count": 16,
   "id": "9019ac31",
   "metadata": {},
   "outputs": [
    {
     "data": {
      "image/png": "[encoded data removed]",
      "text/plain": [
       "<Figure size 640x480 with 1 Axes>"
      ]
     },
     "metadata": {},
     "output_type": "display_data"
    }
   ],
   "source": [
    "# creating bar plot for churn and tenure\n",
    "sns.barplot(x='churn', y='tenure', data=train)\n",
    "plt.title(\"Tenure by Churn\")\n",
    "plt.xlabel(\"Churn\")\n",
    "plt.ylabel(\"Tenure\")\n",
    "plt.xticks([0, 1], ['No Churn', 'Churn'])\n",
    "plt.show()"
   ]
  },
  {
   "cell_type": "markdown",
   "id": "5a3bdbef",
   "metadata": {},
   "source": [
    "- The longer a customer has been with a company the less likely they are to churn\n",
    "\n",
    "#### I will now use a independent t test to investigate whether tenure and churn are associated.\n",
    "\n",
    "- I will use a confidence interval of 95%\n",
    "- The resulting alpha is .05\n",
    "#### Ho: Tenure and churn are not associated.\n",
    "#### Ha: Tenure and churn are associated."
   ]
  },
  {
   "cell_type": "code",
   "execution_count": 17,
   "id": "d84b680a",
   "metadata": {},
   "outputs": [
    {
     "data": {
      "text/plain": [
       "4.577513863553669e-115"
      ]
     },
     "execution_count": 17,
     "metadata": {},
     "output_type": "execute_result"
    }
   ],
   "source": [
    "# sets alpha value and runs independent ttest for monthly charges\n",
    "a = 0.05\n",
    "churned = train[train['has_churned'] == 1]['tenure']\n",
    "not_churned = train[train['has_churned'] == 0]['tenure']\n",
    "\n",
    "t_statistic, p_val = stats.ttest_ind(churned, not_churned)\n",
    "p_val"
   ]
  },
  {
   "cell_type": "code",
   "execution_count": 18,
   "id": "1b9ba30b",
   "metadata": {},
   "outputs": [
    {
     "data": {
      "text/plain": [
       "True"
      ]
     },
     "execution_count": 18,
     "metadata": {},
     "output_type": "execute_result"
    }
   ],
   "source": [
    "#code gives a true or false response to the mathematic equation below\n",
    "p_val < a"
   ]
  },
  {
   "cell_type": "markdown",
   "id": "18312b3f",
   "metadata": {},
   "source": [
    "#### The p-value is less than the alpha. Therefore, we have confidence that tenure and churn are asscoiated. Based on this, we can successfully reject the null hypothesis."
   ]
  },
  {
   "cell_type": "markdown",
   "id": "7b508c2f",
   "metadata": {},
   "source": [
    "## Exploration Summary\n",
    "\"Tenure\",\"monthly charges\",and \"total charges\" were each found to be drivers of \"churn\"\n",
    "\n",
    "- Revisisting data for more reasonable number features in future\n",
    "\n",
    "* Gender was not found to be a driver of churn"
   ]
  },
  {
   "cell_type": "markdown",
   "id": "6aa359a7",
   "metadata": {},
   "source": [
    "## Features moving forward for modeling"
   ]
  },
  {
   "cell_type": "markdown",
   "id": "32358a15",
   "metadata": {},
   "source": [
    "- Tenure - (relationship to churn is statistically significant)\n",
    "\n",
    "- Monthly Charges - (relationship to churn is statistically significant)\n",
    "\n",
    "- Total Charges -  (relationship to churn is statistically significant)\n"
   ]
  },
  {
   "cell_type": "markdown",
   "id": "bdcd3226",
   "metadata": {},
   "source": [
    "## Features not moving forward for modeling"
   ]
  },
  {
   "cell_type": "markdown",
   "id": "29eef51f",
   "metadata": {},
   "source": [
    "- Gender - (relationship to churn is statistically insignificant)"
   ]
  },
  {
   "cell_type": "markdown",
   "id": "80340c71",
   "metadata": {},
   "source": [
    "## Modeling"
   ]
  },
  {
   "cell_type": "markdown",
   "id": "912395c9",
   "metadata": {},
   "source": [
    "- I will use accuracy as my evaluation metric\n",
    "- non-churn makes up approx. 73% of the data"
   ]
  },
  {
   "cell_type": "markdown",
   "id": "2238047d",
   "metadata": {},
   "source": [
    "- by guessing non-churn for every customer, one could achieve an accuracy of 73% \n",
    "\n",
    "- 73% will be the baseline accuracy I use for this project\n",
    "- I will be evaluating models developed using three different model types and different hyperparameters \n",
    "- Models will be evaluated on train and validate data \n",
    "- The model that performs the best will then be evaluated on test data"
   ]
  },
  {
   "cell_type": "code",
   "execution_count": 19,
   "id": "dc6eb7f7",
   "metadata": {},
   "outputs": [],
   "source": [
    "# code sets up x train val and test as well as y train val and test. Code also drops certain columns and assigns to variable for easy use\n",
    "columns_to_drop = ['customer_id','gender', 'senior_citizen', 'partner', 'dependents',\n",
    "       'phone_service', 'multiple_lines', 'online_security', 'online_backup',\n",
    "       'device_protection', 'tech_support', 'streaming_tv', 'streaming_movies',\n",
    "       'paperless_billing','churn','has_churned',\n",
    "       'contract_type', 'internet_service_type', 'payment_type',\n",
    "       'multiple_lines_No phone service',\n",
    "       'multiple_lines_Yes', 'online_security_No internet service',\n",
    "       'online_security_Yes', 'online_backup_No internet service',\n",
    "       'online_backup_Yes', 'device_protection_No internet service',\n",
    "       'device_protection_Yes', 'tech_support_No internet service',\n",
    "       'tech_support_Yes', 'streaming_tv_No internet service',\n",
    "       'streaming_tv_Yes', 'streaming_movies_No internet service',\n",
    "       'streaming_movies_Yes', 'contract_type_One year',\n",
    "       'contract_type_Two year', 'internet_service_type_Fiber optic',\n",
    "       'internet_service_type_None', 'payment_type_Credit card (automatic)',\n",
    "       'payment_type_Electronic check', 'payment_type_Mailed check','gender_female']\n",
    "\n",
    "X_train = train.drop(columns=columns_to_drop)\n",
    "y_train = train.has_churned\n",
    "\n",
    "X_validate = validate.drop(columns=columns_to_drop)\n",
    "y_validate = validate.has_churned\n",
    "\n",
    "X_test = test.drop(columns=columns_to_drop)\n",
    "y_test = test.has_churned"
   ]
  },
  {
   "cell_type": "markdown",
   "id": "9b59f254",
   "metadata": {},
   "source": [
    "## KNN"
   ]
  },
  {
   "cell_type": "code",
   "execution_count": 20,
   "id": "b0effccd",
   "metadata": {},
   "outputs": [],
   "source": [
    "#This runs the model for KNN\n",
    "model_set = []\n",
    "model_accuracy = []    \n",
    "    \n",
    "knn = KNeighborsClassifier(n_neighbors=9)\n",
    "knn.fit(X_train, y_train)\n",
    "model_set.append(knn)\n",
    "model_accuracy.append({\n",
    "        'neighbors': 9,\n",
    "        'train_score': round(knn.score(X_train, y_train), 2),\n",
    "        'validate_score': round(knn.score(X_validate, y_validate), 2),\n",
    "        'score_diff': round(knn.score(X_train, y_train) - knn.score(X_validate, y_validate), 2),\n",
    "})"
   ]
  },
  {
   "cell_type": "code",
   "execution_count": 21,
   "id": "866379e2",
   "metadata": {},
   "outputs": [
    {
     "data": {
      "text/html": [
       "<div>\n",
       "<style scoped>\n",
       "    .dataframe tbody tr th:only-of-type {\n",
       "        vertical-align: middle;\n",
       "    }\n",
       "\n",
       "    .dataframe tbody tr th {\n",
       "        vertical-align: top;\n",
       "    }\n",
       "\n",
       "    .dataframe thead th {\n",
       "        text-align: right;\n",
       "    }\n",
       "</style>\n",
       "<table border=\"1\" class=\"dataframe\">\n",
       "  <thead>\n",
       "    <tr style=\"text-align: right;\">\n",
       "      <th></th>\n",
       "      <th>neighbors</th>\n",
       "      <th>train_score</th>\n",
       "      <th>validate_score</th>\n",
       "      <th>score_diff</th>\n",
       "    </tr>\n",
       "  </thead>\n",
       "  <tbody>\n",
       "    <tr>\n",
       "      <th>0</th>\n",
       "      <td>9</td>\n",
       "      <td>0.82</td>\n",
       "      <td>0.78</td>\n",
       "      <td>0.03</td>\n",
       "    </tr>\n",
       "  </tbody>\n",
       "</table>\n",
       "</div>"
      ],
      "text/plain": [
       "   neighbors  train_score  validate_score  score_diff\n",
       "0          9         0.82            0.78        0.03"
      ]
     },
     "execution_count": 21,
     "metadata": {},
     "output_type": "execute_result"
    }
   ],
   "source": [
    "# creates data frame for model results\n",
    "pd.DataFrame(model_accuracy)"
   ]
  },
  {
   "cell_type": "markdown",
   "id": "70c9dad6",
   "metadata": {},
   "source": [
    "```\n",
    "Accuracy of KNN on train is 0.82\n",
    "Accuracy of KNN on validate is 0.78\n",
    "```\n",
    " \n",
    "- KNN accuracy is better than baseline on train and validate\n",
    "\n",
    " \n",
    " \n"
   ]
  },
  {
   "cell_type": "markdown",
   "id": "1cedd073",
   "metadata": {},
   "source": [
    "## Random Forest"
   ]
  },
  {
   "cell_type": "code",
   "execution_count": 22,
   "id": "147058ea",
   "metadata": {},
   "outputs": [],
   "source": [
    "#This runs the model for RF\n",
    "\n",
    "model_set = []\n",
    "model_accuracy = [] \n",
    "    \n",
    "rf = RandomForestClassifier(max_depth=6)\n",
    "rf.fit(X_train, y_train)\n",
    "train_score = round(rf.score(X_train, y_train), 2)\n",
    "validate_score = round(rf.score(X_validate, y_validate), 2)\n",
    "score_difference = train_score - validate_score\n",
    "\n",
    "\n",
    "model_set.append(rf)\n",
    "model_accuracy.append({\n",
    "        'max_depth': 6,\n",
    "        'train_score': train_score,\n",
    "        'validate_score': validate_score,\n",
    "        'score_diff': score_difference,\n",
    "})"
   ]
  },
  {
   "cell_type": "code",
   "execution_count": 23,
   "id": "c5ec682e",
   "metadata": {},
   "outputs": [
    {
     "data": {
      "text/html": [
       "<div>\n",
       "<style scoped>\n",
       "    .dataframe tbody tr th:only-of-type {\n",
       "        vertical-align: middle;\n",
       "    }\n",
       "\n",
       "    .dataframe tbody tr th {\n",
       "        vertical-align: top;\n",
       "    }\n",
       "\n",
       "    .dataframe thead th {\n",
       "        text-align: right;\n",
       "    }\n",
       "</style>\n",
       "<table border=\"1\" class=\"dataframe\">\n",
       "  <thead>\n",
       "    <tr style=\"text-align: right;\">\n",
       "      <th></th>\n",
       "      <th>max_depth</th>\n",
       "      <th>train_score</th>\n",
       "      <th>validate_score</th>\n",
       "      <th>score_diff</th>\n",
       "    </tr>\n",
       "  </thead>\n",
       "  <tbody>\n",
       "    <tr>\n",
       "      <th>0</th>\n",
       "      <td>6</td>\n",
       "      <td>0.81</td>\n",
       "      <td>0.78</td>\n",
       "      <td>0.03</td>\n",
       "    </tr>\n",
       "  </tbody>\n",
       "</table>\n",
       "</div>"
      ],
      "text/plain": [
       "   max_depth  train_score  validate_score  score_diff\n",
       "0          6         0.81            0.78        0.03"
      ]
     },
     "execution_count": 23,
     "metadata": {},
     "output_type": "execute_result"
    }
   ],
   "source": [
    "# creates data frame for model results\n",
    "pd.DataFrame(model_accuracy)"
   ]
  },
  {
   "cell_type": "markdown",
   "id": "fb93c509",
   "metadata": {},
   "source": [
    "```\n",
    "Accuracy of Random Forest on train is 0.81\n",
    "Accuracy of Random Forest on validate is 0.78\n",
    "```\n",
    " \n",
    "- Random Forest accuracy is better than baseline on train and validate\n"
   ]
  },
  {
   "cell_type": "markdown",
   "id": "5cbe84c9",
   "metadata": {},
   "source": [
    "## Logistic Regression"
   ]
  },
  {
   "cell_type": "code",
   "execution_count": 24,
   "id": "0f3cd2db",
   "metadata": {},
   "outputs": [],
   "source": [
    "#This runs the model for Logistic Regression\n",
    "model_set = []\n",
    "model_accuracy = []\n",
    "\n",
    "\n",
    "logit = LogisticRegression(C=1)\n",
    "logit.fit(X_train, y_train)\n",
    "train_score = round(logit.score(X_train, y_train), 2)\n",
    "validate_score = round(logit.score(X_validate, y_validate), 2)\n",
    "score_difference = train_score - validate_score\n",
    "\n",
    "\n",
    "\n",
    "model_set.append(logit)\n",
    "model_accuracy.append({\n",
    "    'C': 1,\n",
    "    'train_score': train_score,\n",
    "    'validate_score': validate_score,\n",
    "    'score_diff': score_difference,\n",
    "})"
   ]
  },
  {
   "cell_type": "code",
   "execution_count": 25,
   "id": "520a9026",
   "metadata": {},
   "outputs": [
    {
     "data": {
      "text/html": [
       "<div>\n",
       "<style scoped>\n",
       "    .dataframe tbody tr th:only-of-type {\n",
       "        vertical-align: middle;\n",
       "    }\n",
       "\n",
       "    .dataframe tbody tr th {\n",
       "        vertical-align: top;\n",
       "    }\n",
       "\n",
       "    .dataframe thead th {\n",
       "        text-align: right;\n",
       "    }\n",
       "</style>\n",
       "<table border=\"1\" class=\"dataframe\">\n",
       "  <thead>\n",
       "    <tr style=\"text-align: right;\">\n",
       "      <th></th>\n",
       "      <th>C</th>\n",
       "      <th>train_score</th>\n",
       "      <th>validate_score</th>\n",
       "      <th>score_diff</th>\n",
       "    </tr>\n",
       "  </thead>\n",
       "  <tbody>\n",
       "    <tr>\n",
       "      <th>0</th>\n",
       "      <td>1</td>\n",
       "      <td>0.79</td>\n",
       "      <td>0.78</td>\n",
       "      <td>0.01</td>\n",
       "    </tr>\n",
       "  </tbody>\n",
       "</table>\n",
       "</div>"
      ],
      "text/plain": [
       "   C  train_score  validate_score  score_diff\n",
       "0  1         0.79            0.78        0.01"
      ]
     },
     "execution_count": 25,
     "metadata": {},
     "output_type": "execute_result"
    }
   ],
   "source": [
    "# creates data frame for model results\n",
    "pd.DataFrame(model_accuracy)"
   ]
  },
  {
   "cell_type": "markdown",
   "id": "eed51ad6",
   "metadata": {},
   "source": [
    "```\n",
    "Accuracy of Logistic Regression on train is 0.79\n",
    "Accuracy of Logistic Regression on validate is 0.78\n",
    "```\n",
    " \n",
    "- Logistic Regression accuracy is better than baseline on train and validate"
   ]
  },
  {
   "cell_type": "markdown",
   "id": "f38797d6",
   "metadata": {},
   "source": [
    "## Comparing Models"
   ]
  },
  {
   "cell_type": "markdown",
   "id": "4c02ed4c",
   "metadata": {},
   "source": [
    "- KNN, Random Forest, and Logistic Regression models all performed about 6%-8% higher than baseline in both train and validate\n",
    "- The KNN model performed slightly better on train data while all three models were equal in validation scoring.\n",
    "- Because the results of KNN, Random Forest, and Logistic Regression models are all very close in accuracy, I could use any of them.\n",
    "- I selected to proceed with KNN as my model due to its very slight accuracy advantage in training data at 0.82 which could potentially save about 40 customers from churning."
   ]
  },
  {
   "cell_type": "markdown",
   "id": "5077be8c",
   "metadata": {},
   "source": [
    "### KNN Test Score"
   ]
  },
  {
   "cell_type": "code",
   "execution_count": 26,
   "id": "663bfd10",
   "metadata": {},
   "outputs": [],
   "source": [
    "#This runs the model for KNN\n",
    "model_set = []\n",
    "model_accuracy = []    \n",
    "    \n",
    "knn = KNeighborsClassifier(n_neighbors=9)\n",
    "knn.fit(X_train, y_train)\n",
    "model_set.append(knn)\n",
    "test_score = round(knn.score(X_test, y_test), 2)\n",
    "model_accuracy.append({\n",
    "        'neighbors': 9,\n",
    "        'train_score': round(knn.score(X_train, y_train), 2),\n",
    "        'validate_score': round(knn.score(X_validate, y_validate), 2),\n",
    "        'score_diff': round(knn.score(X_train, y_train) - knn.score(X_validate, y_validate), 2),\n",
    "        'Test_Score' : test_score\n",
    "})"
   ]
  },
  {
   "cell_type": "code",
   "execution_count": 27,
   "id": "7c664209",
   "metadata": {},
   "outputs": [
    {
     "data": {
      "text/html": [
       "<div>\n",
       "<style scoped>\n",
       "    .dataframe tbody tr th:only-of-type {\n",
       "        vertical-align: middle;\n",
       "    }\n",
       "\n",
       "    .dataframe tbody tr th {\n",
       "        vertical-align: top;\n",
       "    }\n",
       "\n",
       "    .dataframe thead th {\n",
       "        text-align: right;\n",
       "    }\n",
       "</style>\n",
       "<table border=\"1\" class=\"dataframe\">\n",
       "  <thead>\n",
       "    <tr style=\"text-align: right;\">\n",
       "      <th></th>\n",
       "      <th>neighbors</th>\n",
       "      <th>train_score</th>\n",
       "      <th>validate_score</th>\n",
       "      <th>score_diff</th>\n",
       "      <th>Test_Score</th>\n",
       "    </tr>\n",
       "  </thead>\n",
       "  <tbody>\n",
       "    <tr>\n",
       "      <th>0</th>\n",
       "      <td>9</td>\n",
       "      <td>0.82</td>\n",
       "      <td>0.78</td>\n",
       "      <td>0.03</td>\n",
       "      <td>0.78</td>\n",
       "    </tr>\n",
       "  </tbody>\n",
       "</table>\n",
       "</div>"
      ],
      "text/plain": [
       "   neighbors  train_score  validate_score  score_diff  Test_Score\n",
       "0          9         0.82            0.78        0.03        0.78"
      ]
     },
     "execution_count": 27,
     "metadata": {},
     "output_type": "execute_result"
    }
   ],
   "source": [
    "# creates data frame for model results\n",
    "pd.DataFrame(model_accuracy)"
   ]
  },
  {
   "cell_type": "markdown",
   "id": "92487616",
   "metadata": {},
   "source": [
    "Accuracy of KNN on test is 0.78"
   ]
  },
  {
   "cell_type": "markdown",
   "id": "031abe99",
   "metadata": {},
   "source": [
    "### Modeling Summary\n",
    "- KNN, Random Forest, and Logistic Regression models all performed about 6%-8% higher than baseline in both train and validate\n",
    "- The KNN model performed slightly better on train data while all three models were equal in validation scoring.\n",
    "- Because the results of KNN, Random Forest, and Logistic Regression models are all very close in accuracy, I could use any of them.\n",
    "- KNN was selected as final model and had a test score of 78%"
   ]
  },
  {
   "cell_type": "markdown",
   "id": "439d7473",
   "metadata": {},
   "source": [
    "## Conclusions"
   ]
  },
  {
   "cell_type": "markdown",
   "id": "a48355eb",
   "metadata": {},
   "source": [
    "### Exploration"
   ]
  },
  {
   "cell_type": "markdown",
   "id": "a838d53b",
   "metadata": {},
   "source": [
    "- Percentage of churn accounts for approximately 24% of the total customers.\n",
    "- Whether the customer is a male or female does not affect whether the customer is more likely to churn.\n",
    "- Customer with a higher monthly bill are more likely to churn.\n",
    "- More of an obvious find was that customers with longer tenure are less likely to churn.\n",
    "- Total charges had less of an impact on churn than monthly charges, nonetheless a impact was still found(although minimal).\n"
   ]
  },
  {
   "cell_type": "markdown",
   "id": "6e0c9ba7",
   "metadata": {},
   "source": [
    "## Modeling"
   ]
  },
  {
   "cell_type": "markdown",
   "id": "829f4f1b",
   "metadata": {},
   "source": [
    "#### The final model succeeded in outperforming the baseline accuracy by 5%. \n",
    "\n"
   ]
  },
  {
   "cell_type": "markdown",
   "id": "446efbd1",
   "metadata": {},
   "source": [
    "## Recommendations"
   ]
  },
  {
   "cell_type": "markdown",
   "id": "59048286",
   "metadata": {},
   "source": [
    "#### To decrease the amount of customers churning in the future, it may be a good idea to analyze higher bills and a customers usage in order to see where the customer could save on their monthly charges"
   ]
  },
  {
   "cell_type": "markdown",
   "id": "bcef012a",
   "metadata": {},
   "source": [
    "## Next Steps"
   ]
  },
  {
   "cell_type": "markdown",
   "id": "311ca833",
   "metadata": {},
   "source": [
    "- Further explore encoded columns in the cleaned data\n",
    "- Look for more features that may need to be binned for further insight"
   ]
  }
 ],
 "metadata": {
  "kernelspec": {
   "display_name": "Python 3 (ipykernel)",
   "language": "python",
   "name": "python3"
  },
  "language_info": {
   "codemirror_mode": {
    "name": "ipython",
    "version": 3
   },
   "file_extension": ".py",
   "mimetype": "text/x-python",
   "name": "python",
   "nbconvert_exporter": "python",
   "pygments_lexer": "ipython3",
   "version": "3.10.9"
  }
 },
 "nbformat": 4,
 "nbformat_minor": 5
}
